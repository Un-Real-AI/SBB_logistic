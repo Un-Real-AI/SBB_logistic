{
 "cells": [
  {
   "cell_type": "code",
   "execution_count": 30,
   "id": "c0b7e43c",
   "metadata": {},
   "outputs": [],
   "source": [
    "import pandas as pd\n",
    "import datetime\n",
    "import shapely\n",
    "import plotly.express as px\n",
    "import plotly.graph_objects as go\n",
    "import geopandas as gpd\n",
    "import matplotlib.pyplot as plt\n",
    "import pyproj\n",
    "from shapely.ops import transform, cascaded_union\n",
    "from geovoronoi.plotting import subplot_for_map, plot_voronoi_polys_with_points_in_area\n",
    "from geovoronoi import voronoi_regions_from_coords, points_to_coords"
   ]
  },
  {
   "cell_type": "markdown",
   "id": "8f66ac18",
   "metadata": {},
   "source": [
    "## We import the data"
   ]
  },
  {
   "cell_type": "code",
   "execution_count": 85,
   "id": "50dbbae8",
   "metadata": {},
   "outputs": [
    {
     "name": "stderr",
     "output_type": "stream",
     "text": [
      "/var/folders/8l/f9pkmlrd2nzgs6txcq2cf8br0000gn/T/ipykernel_43024/252639875.py:5: SettingWithCopyWarning:\n",
      "\n",
      "\n",
      "A value is trying to be set on a copy of a slice from a DataFrame.\n",
      "Try using .loc[row_indexer,col_indexer] = value instead\n",
      "\n",
      "See the caveats in the documentation: https://pandas.pydata.org/pandas-docs/stable/user_guide/indexing.html#returning-a-view-versus-a-copy\n",
      "\n",
      "/var/folders/8l/f9pkmlrd2nzgs6txcq2cf8br0000gn/T/ipykernel_43024/252639875.py:6: SettingWithCopyWarning:\n",
      "\n",
      "\n",
      "A value is trying to be set on a copy of a slice from a DataFrame.\n",
      "Try using .loc[row_indexer,col_indexer] = value instead\n",
      "\n",
      "See the caveats in the documentation: https://pandas.pydata.org/pandas-docs/stable/user_guide/indexing.html#returning-a-view-versus-a-copy\n",
      "\n"
     ]
    }
   ],
   "source": [
    "stations=pd.read_csv('../data/geo_spatial/dienststellen-gemass-opentransportdataswiss.csv', sep=';')\n",
    "main_stations=pd.read_csv('../data/scrapped_data/main_stations_scrapper.csv')\n",
    "#we take only the stations that are service points for freight.\n",
    "service_points=stations.loc[(stations.IS_BEDIENPUNKT==1) & (stations['CANTON NAME'].notna())& (stations.IS_STOP==0)]\n",
    "service_points['latitude']=service_points.Geopos.str.split(',').map(lambda x: float(x[0]))\n",
    "service_points['longitude']=service_points.Geopos.str.split(',').map(lambda x: float(x[1]))\n",
    "geo_service_points = gpd.GeoDataFrame(service_points, geometry=gpd.points_from_xy(service_points.longitude,\n",
    "                                                                                  service_points.latitude))\n",
    "swiss_boundary = gpd.read_file('../data/Switzerland_shapefile/swissBOUNDARIES3D_1_3_TLM_KANTONSGEBIET.shp')"
   ]
  },
  {
   "cell_type": "markdown",
   "id": "4bd7e4de",
   "metadata": {},
   "source": [
    "## Now we filter for the point which are main stations"
   ]
  },
  {
   "cell_type": "code",
   "execution_count": null,
   "id": "0bebe7a0",
   "metadata": {},
   "outputs": [],
   "source": []
  },
  {
   "cell_type": "markdown",
   "id": "f2d33a5a",
   "metadata": {},
   "source": [
    "## We transform the points from the swiss LV95 projection into the World Geodetic System "
   ]
  },
  {
   "cell_type": "code",
   "execution_count": 79,
   "id": "c3f0d294",
   "metadata": {},
   "outputs": [],
   "source": [
    "lv95 = pyproj.CRS('EPSG:2056')\n",
    "wgs84 = pyproj.CRS('EPSG:4326')\n",
    "project = pyproj.Transformer.from_crs(lv03, wgs84, \n",
    "                                          always_xy=True).transform\n",
    "swiss_boundary['geometry']=swiss_boundary.geometry.map(lambda x: transform(project, x))"
   ]
  },
  {
   "cell_type": "markdown",
   "id": "95bec20c",
   "metadata": {},
   "source": [
    "## We display the computed service stations"
   ]
  },
  {
   "cell_type": "code",
   "execution_count": 80,
   "id": "97e52430",
   "metadata": {},
   "outputs": [
    {
     "data": {
      "application/vnd.plotly.v1+json": {
       "config": {
        "plotlyServerURL": "https://plot.ly"
       },
       "data": [
        {
         "geo": "geo",
         "hovertemplate": "<b>%{hovertext}</b><br><br>CANTON NAME=Uri<br>latitude=%{lat}<br>longitude=%{lon}<extra></extra>",
         "hovertext": [
          "Rynächt Ueberholgleisanlage",
          "Amsteg-Silenen",
          "Pfaffensprung (Spw)",
          "Wassen",
          "Gurtnellen",
          "Amsteg Grund (Agl)",
          "Rynächt (Abzw)",
          "Rynächt Nord"
         ],
         "lat": [
          46.8476199974,
          46.7810020046,
          46.7155383078,
          46.7016413545,
          46.7293535076,
          46.7802916014,
          46.8434015835,
          46.8633479349
         ],
         "legendgroup": "Uri",
         "lon": [
          8.6410899937,
          8.67210554441,
          8.60897330522,
          8.59702614292,
          8.62247618308,
          8.66952652673,
          8.6429016033,
          8.63546685585
         ],
         "marker": {
          "color": "#636efa",
          "symbol": "circle"
         },
         "mode": "markers",
         "name": "Uri",
         "showlegend": true,
         "type": "scattergeo"
        },
        {
         "geo": "geo",
         "hovertemplate": "<b>%{hovertext}</b><br><br>CANTON NAME=St. Gallen<br>latitude=%{lat}<br>longitude=%{lon}<extra></extra>",
         "hovertext": [
          "Rorschach GB",
          "Neugrüt (Verzw)",
          "Gossau-Sommerau (Agl)",
          "Sargans Schleife (Verzw)",
          "Bazenheid ZAB (Agl)",
          "Altenrhein",
          "Horchental",
          "Haag-Gams",
          "Buchs SG Zement",
          "St. Gallen GB",
          "Burgau Deponie ZAB (Agl)"
         ],
         "lat": [
          47.4782899987,
          47.0880335534,
          47.4200890469,
          47.0418657009,
          47.4187931737,
          47.4827469932,
          47.4735275034,
          47.2073497028,
          47.1684504359,
          47.4191872532,
          47.4074212676
         ],
         "legendgroup": "St. Gallen",
         "lon": [
          9.51321000448,
          9.4981939521,
          9.24065789268,
          9.46505269756,
          9.07275964792,
          9.54750972343,
          9.44057099449,
          9.47886703694,
          9.47987096106,
          9.36466285385,
          9.21484599582
         ],
         "marker": {
          "color": "#EF553B",
          "symbol": "circle"
         },
         "mode": "markers",
         "name": "St. Gallen",
         "showlegend": true,
         "type": "scattergeo"
        },
        {
         "geo": "geo",
         "hovertemplate": "<b>%{hovertext}</b><br><br>CANTON NAME=Graubünden<br>latitude=%{lat}<br>longitude=%{lon}<extra></extra>",
         "hovertext": [
          "Zizers Altlöser",
          "Reichenau Farsch (Abzw)",
          "Chur GB",
          "Serneus",
          "Schnaus-Strada",
          "Sils im Domleschg (Abzw)",
          "Sedrun SMF",
          "Trimmis",
          "Zizers SBB"
         ],
         "lat": [
          46.9385299946,
          46.8227299943,
          46.8513299984,
          46.8937099994,
          46.7745399974,
          46.7002799963,
          46.6658503466,
          46.9081299987,
          46.9322124385
         ],
         "legendgroup": "Graubünden",
         "lon": [
          9.55911999658,
          9.40456000474,
          9.52228999968,
          9.84322999424,
          9.17695000152,
          9.45859999613,
          8.77019939485,
          9.55146000341,
          9.5595697146
         ],
         "marker": {
          "color": "#00cc96",
          "symbol": "circle"
         },
         "mode": "markers",
         "name": "Graubünden",
         "showlegend": true,
         "type": "scattergeo"
        },
        {
         "geo": "geo",
         "hovertemplate": "<b>%{hovertext}</b><br><br>CANTON NAME=Zürich<br>latitude=%{lat}<br>longitude=%{lon}<extra></extra>",
         "hovertext": [
          "Zürich Vorbahnhof Süd",
          "Fehraltorf Industrie",
          "Höcklerbrücke",
          "Opfikon Süd",
          "Birmensdorf Industrie",
          "Marthalen Nord",
          "Winterthur West (Abzw)",
          "Weiach-Kaiserstuhl",
          "Zürich Mülligen",
          "Zürich Vorbahnhof",
          "Zürich Herdern Abstellgruppe",
          "Zürich RB Limmattal Depot/Bau",
          "Bäretswil Tobel (Agl)",
          "Hürlistein (Abzw)",
          "Buchs-Dällikon Industrie",
          "Sihlbrugg",
          "Riet (Verzw)",
          "Dorfnest (Abzw)",
          "Zürich Vorbahnhof West",
          "Zürich Gubrist",
          "Otelfingen Industrie"
         ],
         "lat": [
          47.3830999967,
          47.3870035092,
          47.3431120474,
          47.424571746,
          47.3642370496,
          47.63509,
          47.4924520624,
          47.5636534141,
          47.3966048071,
          47.3844221618,
          47.3907183769,
          47.4149574684,
          47.3349018864,
          47.4224509588,
          47.4544899953,
          47.2384279346,
          47.4389701446,
          47.4433780269,
          47.3878351539,
          47.4245987421,
          47.4561026894
         ],
         "legendgroup": "Zürich",
         "lon": [
          8.51994000043,
          8.74681254282,
          8.51988884473,
          8.5573521678,
          8.43165888868,
          8.65293999962,
          8.71730239711,
          8.42554072477,
          8.47040273643,
          8.51617022661,
          8.50141425139,
          8.3925195546,
          8.8445650681,
          8.66343003227,
          8.41973999327,
          8.57705894298,
          8.56505484096,
          8.60956980369,
          8.50616589282,
          8.48573540961,
          8.39820638704
         ],
         "marker": {
          "color": "#ab63fa",
          "symbol": "circle"
         },
         "mode": "markers",
         "name": "Zürich",
         "showlegend": true,
         "type": "scattergeo"
        },
        {
         "geo": "geo",
         "hovertemplate": "<b>%{hovertext}</b><br><br>CANTON NAME=Bern<br>latitude=%{lat}<br>longitude=%{lon}<extra></extra>",
         "hovertext": [
          "Bern Wylerfeld",
          "Leuzigen",
          "Arch",
          "Felsenburg",
          "Wankdorf (Abzw)",
          "Sumiswald-Grünen ETB",
          "Burghof",
          "Sandacher (Spw)",
          "Niederbottigen BN",
          "Langenthal GB",
          "Krattighalde",
          "Mattstetten (Abzw)",
          "Leissigbad (Agl)",
          "Wengi",
          "Hondrich Süd",
          "Spiezmoos Süd",
          "Bern Fischermätteli",
          "Bern Wyler",
          "Frutigen Nordportal (Abzw)",
          "Studen Auto",
          "Riedtwil",
          "Rüti bei Büren",
          "Spiez (Abzw)",
          "Bern Weyermannshaus",
          "Zollikofen West (Spw)",
          "Bern Wyler West (Spw)",
          "Biel Produktionsanlage Ost",
          "Brunnenfluh",
          "Biel/Bienne RB",
          "Gwatt",
          "Adelrain (Abzw)",
          "Thun GB"
         ],
         "lat": [
          46.9658404538,
          47.177856204,
          47.1644670548,
          46.5315384361,
          46.9653248908,
          47.0255003369,
          47.0320070604,
          47.0598852111,
          46.9424987918,
          47.2147993223,
          46.6625623974,
          47.0350840293,
          46.6560035704,
          46.6050804133,
          46.6696951163,
          46.691681091,
          46.9417654348,
          46.9665979233,
          46.577701242,
          47.1076486331,
          47.1401578848,
          47.1545718359,
          46.6896899922,
          46.9473252562,
          46.9929599947,
          46.9637567338,
          47.1442817243,
          46.7474399346,
          47.1432755397,
          46.7254448843,
          46.5681930353,
          46.7564940855
         ],
         "legendgroup": "Bern",
         "lon": [
          7.45830929359,
          7.44858506857,
          7.41848919112,
          7.67574621948,
          7.4721375473,
          7.7370120311,
          7.76113292069,
          7.574782992,
          7.36802605283,
          7.77006868277,
          7.73954214877,
          7.52579634501,
          7.75309115772,
          7.66202259502,
          7.67018399352,
          7.66137505652,
          7.41212934785,
          7.46028536399,
          7.64875890915,
          7.3062944582,
          7.69327601162,
          7.402156887,
          7.67046865883,
          7.41092873087,
          7.4646399934,
          7.44913410067,
          7.26923619667,
          8.15529994003,
          7.26820511464,
          7.620090308,
          7.64415519812,
          7.6266673619
         ],
         "marker": {
          "color": "#FFA15A",
          "symbol": "circle"
         },
         "mode": "markers",
         "name": "Bern",
         "showlegend": true,
         "type": "scattergeo"
        },
        {
         "geo": "geo",
         "hovertemplate": "<b>%{hovertext}</b><br><br>CANTON NAME=Luzern<br>latitude=%{lat}<br>longitude=%{lon}<extra></extra>",
         "hovertext": [
          "Triengen-Winikon",
          "Luzern Cargo",
          "Luzern Steghof (Abzw)",
          "Geuensee",
          "Gettnau Güteranlage",
          "Wiggen",
          "Sursee Wassermatte",
          "Hüswil West",
          "Büron-Bad Knutwil"
         ],
         "lat": [
          47.2348976947,
          47.0475999963,
          47.0414600014,
          47.1953064154,
          47.140365885,
          46.8998680563,
          47.1816769187,
          47.1265099944,
          47.2101724897
         ],
         "legendgroup": "Luzern",
         "lon": [
          8.07335769416,
          8.31312000425,
          8.30998999757,
          8.103960875,
          7.9843539933,
          7.90139123053,
          8.1078774262,
          7.89915999625,
          8.08946834794
         ],
         "marker": {
          "color": "#19d3f3",
          "symbol": "circle"
         },
         "mode": "markers",
         "name": "Luzern",
         "showlegend": true,
         "type": "scattergeo"
        },
        {
         "geo": "geo",
         "hovertemplate": "<b>%{hovertext}</b><br><br>CANTON NAME=Schwyz<br>latitude=%{lat}<br>longitude=%{lon}<extra></extra>",
         "hovertext": [
          "Kaltenboden (Agl)"
         ],
         "lat": [
          47.1685525691
         ],
         "legendgroup": "Schwyz",
         "lon": [
          8.72371823571
         ],
         "marker": {
          "color": "#FF6692",
          "symbol": "circle"
         },
         "mode": "markers",
         "name": "Schwyz",
         "showlegend": true,
         "type": "scattergeo"
        },
        {
         "geo": "geo",
         "hovertemplate": "<b>%{hovertext}</b><br><br>CANTON NAME=Valais<br>latitude=%{lat}<br>longitude=%{lon}<extra></extra>",
         "hovertext": [
          "Martigny-Bourg CT",
          "Gamsen SBB",
          "Les Paluds",
          "St. German (Abzw)",
          "Monthey Giovanola (embr)",
          "Mundbach (Spw)",
          "Rarnerkumme (Spw)",
          "Martigny Aluminium (embr)",
          "Monthey Centre agr Bas-V (embr",
          "Monthey Agip (embr)"
         ],
         "lat": [
          46.104352779,
          46.3038645009,
          46.229569314,
          46.3061654866,
          46.2649997891,
          46.3084837812,
          46.3203701413,
          46.1122608077,
          46.2807072506,
          46.2886970208
         ],
         "legendgroup": "Valais",
         "lon": [
          7.08773320572,
          7.94026732178,
          7.00042308458,
          7.84409489603,
          6.94962934567,
          7.94735006109,
          7.80263015119,
          7.09604383103,
          6.94190185384,
          6.93593998425
         ],
         "marker": {
          "color": "#B6E880",
          "symbol": "circle"
         },
         "mode": "markers",
         "name": "Valais",
         "showlegend": true,
         "type": "scattergeo"
        },
        {
         "geo": "geo",
         "hovertemplate": "<b>%{hovertext}</b><br><br>CANTON NAME=Aargau<br>latitude=%{lat}<br>longitude=%{lon}<extra></extra>",
         "hovertext": [
          "Baden Oberstadt",
          "Mellingen",
          "Zürich RB Limmattal",
          "Gexi",
          "Full",
          "Effingen",
          "Silberen (Abzw)",
          "Waltenschwil",
          "Brugg AG VL",
          "Aarau GB",
          "Buchhalde (Spw)",
          "Sisseln",
          "Rothrist GB",
          "Dottikon Umspannanlage",
          "Schinznach Dorf",
          "Felsenau AG",
          "Leibstadt",
          "Hornussen",
          "Kölliken Sondermülldeponie",
          "Suhr Migros"
         ],
         "lat": [
          47.4696307036,
          47.4298191058,
          47.4228441569,
          47.392529356,
          47.6094052207,
          47.4765572024,
          47.4213547505,
          47.3270718969,
          47.4748980346,
          47.3945291184,
          47.4999412727,
          47.5456366074,
          47.2950841103,
          47.3629226819,
          47.4570946121,
          47.605569878,
          47.5932391961,
          47.497337032,
          47.3237199955,
          47.379830001
         ],
         "legendgroup": "Aargau",
         "lon": [
          8.30429429929,
          8.27376148736,
          8.37731216103,
          8.19264182837,
          8.19698044492,
          8.10068310694,
          8.386977419,
          8.29729575216,
          8.20505110219,
          8.06643786516,
          8.04733803901,
          7.99309503702,
          7.85622155516,
          8.24918198596,
          8.13077880244,
          8.22118323706,
          8.16555706011,
          8.05987704592,
          8.01051999942,
          8.08958000399
         ],
         "marker": {
          "color": "#FF97FF",
          "symbol": "circle"
         },
         "mode": "markers",
         "name": "Aargau",
         "showlegend": true,
         "type": "scattergeo"
        },
        {
         "geo": "geo",
         "hovertemplate": "<b>%{hovertext}</b><br><br>CANTON NAME=Vaud<br>latitude=%{lat}<br>longitude=%{lon}<extra></extra>",
         "hovertext": [
          "Renens VD Est (bif)",
          "Lonay B (bif)",
          "Bossy Bois (embr)",
          "La Lance (diag)",
          "Eclépens sud",
          "Renens VD Entrepôts",
          "Archy A (bif)",
          "Archy (bif)",
          "Vallorbe-Frontière",
          "Le Verney (embr)",
          "Lausanne-Triage Est",
          "Lausanne-Triage SALT",
          "Chavornay-Industrie",
          "Onnens-Bonvillars PMP",
          "Bière-Casernes",
          "Lausanne-Triage D",
          "St-Triphon",
          "Daillens",
          "Renens VD Ouest (bif)",
          "Lonay A (bif)",
          "Denges B (bif)",
          "Orbe-Industrie (marchandises)",
          "Renens VD Larges Pièces (embr)",
          "Lausanne-Sébeillon",
          "Lausanne-Triage",
          "Onnens-Bonvillars"
         ],
         "lat": [
          46.533255628,
          46.5248086896,
          46.8283375406,
          46.8595387098,
          46.6496999805,
          46.5348265818,
          46.543493585,
          46.5422333879,
          46.7135937488,
          46.4880008451,
          46.5356833039,
          46.523492792,
          46.7133295691,
          46.8311372998,
          46.5285300024,
          46.5324303042,
          46.2787989971,
          46.6322813074,
          46.5407882914,
          46.5236124649,
          46.5307684935,
          46.7209171508,
          46.540099004,
          46.5242746924,
          46.5271546532,
          46.8326405609
         ],
         "legendgroup": "Vaud",
         "lon": [
          6.5870726329,
          6.52433932758,
          6.96045957309,
          6.7413503958,
          6.55154003624,
          6.5826885657,
          6.56377169322,
          6.55879211212,
          6.34776174154,
          6.7630682738,
          6.55347427058,
          6.52741192949,
          6.55944884623,
          6.684652022,
          6.35197000449,
          6.54762625942,
          6.97189589911,
          6.54247860789,
          6.57208700737,
          6.5210152788,
          6.54434169958,
          6.5414957391,
          6.57446989196,
          6.61102936515,
          6.53929685172,
          6.68985890083
         ],
         "marker": {
          "color": "#FECB52",
          "symbol": "circle"
         },
         "mode": "markers",
         "name": "Vaud",
         "showlegend": true,
         "type": "scattergeo"
        },
        {
         "geo": "geo",
         "hovertemplate": "<b>%{hovertext}</b><br><br>CANTON NAME=Ticino<br>latitude=%{lat}<br>longitude=%{lon}<extra></extra>",
         "hovertext": [
          "Giornico (c bin)",
          "Bellinzona S. Paolo",
          "Pollegio",
          "Pollegio Nord (dira)",
          "Pollegio Sud (Dira)",
          "Stabio Cargo",
          "Lugano Vedeggio",
          "Giustizia (dira)",
          "Pollegio binario di sorpasso",
          "Balerna per Smistamento (bif)",
          "Sigirino",
          "Faido SMF",
          "Osogna-Cresciano",
          "Rodi-Fiesso",
          "Pasquerio (bin rac)",
          "Castione Impianto d'inversione",
          "Chiasso Smistamento",
          "Claro",
          "Pozzo Negro (dira)"
         ],
         "lat": [
          46.4069794498,
          46.2035996482,
          46.3640702857,
          46.3679947891,
          46.3457099995,
          45.8568098896,
          46.0200516925,
          46.3235262684,
          46.3593936983,
          45.8491526568,
          46.0754770941,
          46.4978372383,
          46.299265671,
          46.4902514814,
          46.3606200023,
          46.2284443702,
          45.8365050217,
          46.2531780754,
          46.3725834284
         ],
         "legendgroup": "Ticino",
         "lon": [
          8.869187641,
          9.03847697033,
          8.942607312,
          8.93216172722,
          8.96717000153,
          8.95570938989,
          8.91770183448,
          8.98219842278,
          8.95109086389,
          9.00000331082,
          8.92845432708,
          8.81062794366,
          8.99414562156,
          8.74016246506,
          8.95278999472,
          9.04089387436,
          8.99907734861,
          9.01704674478,
          8.9254072784
         ],
         "marker": {
          "color": "#636efa",
          "symbol": "circle"
         },
         "mode": "markers",
         "name": "Ticino",
         "showlegend": true,
         "type": "scattergeo"
        },
        {
         "geo": "geo",
         "hovertemplate": "<b>%{hovertext}</b><br><br>CANTON NAME=Neuchâtel<br>latitude=%{lat}<br>longitude=%{lon}<extra></extra>",
         "hovertext": [
          "Le Creux",
          "Convers",
          "Cottendart (embr)",
          "Le Locle-Frontière",
          "Neuchâtel Cargo",
          "Bellevue NE",
          "La Chaux-de-Fonds Ouest",
          "Les Eplatures",
          "Neuchâtel Est (bif)",
          "Les Verrières-Frontière",
          "Les Verrières"
         ],
         "lat": [
          47.099934783,
          47.0840239105,
          46.9712879017,
          47.0502175411,
          46.998919994,
          47.1183059987,
          47.0913353232,
          47.0834900254,
          47.000487583,
          46.8991653952,
          46.9053266499
         ],
         "legendgroup": "Neuchâtel",
         "lon": [
          6.86988491447,
          6.86466542968,
          6.8456960323,
          6.7169422107,
          6.94161999726,
          6.86426099394,
          6.81278026047,
          6.79759739638,
          6.94535220902,
          6.45900262048,
          6.47939281945
         ],
         "marker": {
          "color": "#EF553B",
          "symbol": "circle"
         },
         "mode": "markers",
         "name": "Neuchâtel",
         "showlegend": true,
         "type": "scattergeo"
        },
        {
         "geo": "geo",
         "hovertemplate": "<b>%{hovertext}</b><br><br>CANTON NAME=Fribourg<br>latitude=%{lat}<br>longitude=%{lon}<extra></extra>",
         "hovertext": [
          "Siporex (embr)",
          "Lussy FR",
          "Bossy Moulins (embr)",
          "Sâles",
          "Léchelles Tanklager (embr)",
          "Sévaz (embr)"
         ],
         "lat": [
          46.8400849646,
          46.7092645262,
          46.8232962185,
          46.6401471807,
          46.8307127794,
          46.8375485223
         ],
         "legendgroup": "Fribourg",
         "lon": [
          6.85670710318,
          6.93850939126,
          6.97112889372,
          6.97440320441,
          7.04013107404,
          6.86304086517
         ],
         "marker": {
          "color": "#00cc96",
          "symbol": "circle"
         },
         "mode": "markers",
         "name": "Fribourg",
         "showlegend": true,
         "type": "scattergeo"
        },
        {
         "geo": "geo",
         "hovertemplate": "<b>%{hovertext}</b><br><br>CANTON NAME=Solothurn<br>latitude=%{lat}<br>longitude=%{lon}<extra></extra>",
         "hovertext": [
          "Härkingen Post",
          "Bärschwil",
          "Olten Tunnel (Spw)",
          "Subingen",
          "Hauenstein Süd (Spw)",
          "Lüsslingen",
          "Bellach Industrie",
          "Schönenwerd SO Ost (Spw)",
          "Olten SBB/CFF/FFS Cargo",
          "Olten RB",
          "Derendingen",
          "Däniken RB"
         ],
         "lat": [
          47.3216141736,
          47.4007866647,
          47.372184921,
          47.193520569,
          47.3947098898,
          47.1925078439,
          47.2084314528,
          47.3778500013,
          47.3487483429,
          47.3625146309,
          47.2025051462,
          47.3534202727
         ],
         "legendgroup": "Solothurn",
         "lon": [
          7.81845975418,
          7.47691415554,
          7.91544477046,
          7.61123264995,
          7.90728858281,
          7.49660075225,
          7.49540631743,
          8.00889999539,
          7.90710378002,
          7.91518798834,
          7.58210898315,
          7.97128541429
         ],
         "marker": {
          "color": "#ab63fa",
          "symbol": "circle"
         },
         "mode": "markers",
         "name": "Solothurn",
         "showlegend": true,
         "type": "scattergeo"
        },
        {
         "geo": "geo",
         "hovertemplate": "<b>%{hovertext}</b><br><br>CANTON NAME=Basel-Stadt<br>latitude=%{lat}<br>longitude=%{lon}<extra></extra>",
         "hovertext": [
          "Basel SBB GB",
          "Basel St. Johann Hafen",
          "Basel Bad Rbf KH (Abzw)",
          "Basel Grenze (FR)",
          "Basel Kleinhüningen Hafen",
          "Basel VB Grenze"
         ],
         "lat": [
          47.5423574611,
          47.570720122,
          47.5834637369,
          47.5775602038,
          47.578023815,
          47.5602514264
         ],
         "legendgroup": "Basel-Stadt",
         "lon": [
          7.6088322933,
          7.58348349316,
          7.60191075776,
          7.56759508285,
          7.58773303341,
          7.61318508973
         ],
         "marker": {
          "color": "#FFA15A",
          "symbol": "circle"
         },
         "mode": "markers",
         "name": "Basel-Stadt",
         "showlegend": true,
         "type": "scattergeo"
        },
        {
         "geo": "geo",
         "hovertemplate": "<b>%{hovertext}</b><br><br>CANTON NAME=Thurgau<br>latitude=%{lat}<br>longitude=%{lon}<extra></extra>",
         "hovertext": [
          "Weinfelden Süd",
          "Wil Ost",
          "Weinfelden KVA Thurgau (Abzw)",
          "Frauenfeld Zuckerrüben",
          "Altishausen",
          "Romanshorn GB",
          "Frauenfeld Paketpost"
         ],
         "lat": [
          47.5614338238,
          47.4532599958,
          47.558265211,
          47.5541876373,
          47.5964882997,
          47.5617457051,
          47.5713004729
         ],
         "legendgroup": "Thurgau",
         "lon": [
          9.09490637945,
          9.04366999635,
          9.1272165049,
          8.87520317082,
          9.16237708933,
          9.37943029752,
          8.9214246381
         ],
         "marker": {
          "color": "#19d3f3",
          "symbol": "circle"
         },
         "mode": "markers",
         "name": "Thurgau",
         "showlegend": true,
         "type": "scattergeo"
        },
        {
         "geo": "geo",
         "hovertemplate": "<b>%{hovertext}</b><br><br>CANTON NAME=Basel-Landschaft<br>latitude=%{lat}<br>longitude=%{lon}<extra></extra>",
         "hovertext": [
          "Basel SBB RB II",
          "Liestal Nord (Abzw)",
          "Basel SBB Dreispitz",
          "Hauenstein Nord (Spw)",
          "Birsfelden Hafen",
          "Frenkendorf-F. Containerdepot",
          "Basel SBB RB",
          "Pratteln Ueberwerfung",
          "Liesberg",
          "Basel SBB RB Nordkopf (Abzw)",
          "Schweizerhalle"
         ],
         "lat": [
          47.5352294678,
          47.4878822562,
          47.5260785827,
          47.4175142528,
          47.5436632763,
          47.5004947792,
          47.5363585723,
          47.5233550572,
          47.3982052643,
          47.5396484366,
          47.5315043299
         ],
         "legendgroup": "Basel-Landschaft",
         "lon": [
          7.65619878319,
          7.72623095592,
          7.60721341683,
          7.89902807343,
          7.65456729565,
          7.71925850693,
          7.64638231556,
          7.67909755306,
          7.4389852783,
          7.63236433818,
          7.66231907116
         ],
         "marker": {
          "color": "#FF6692",
          "symbol": "circle"
         },
         "mode": "markers",
         "name": "Basel-Landschaft",
         "showlegend": true,
         "type": "scattergeo"
        },
        {
         "geo": "geo",
         "hovertemplate": "<b>%{hovertext}</b><br><br>CANTON NAME=Jura<br>latitude=%{lat}<br>longitude=%{lon}<extra></extra>",
         "hovertext": [
          "Alle-La Fenatte Cargo",
          "Soyhières",
          "Bure-Casernes",
          "Choindez"
         ],
         "lat": [
          47.4292179942,
          47.389102259,
          47.4538189734,
          47.3240181689
         ],
         "legendgroup": "Jura",
         "lon": [
          7.14240599489,
          7.37072516681,
          7.0115297727,
          7.37585466016
         ],
         "marker": {
          "color": "#B6E880",
          "symbol": "circle"
         },
         "mode": "markers",
         "name": "Jura",
         "showlegend": true,
         "type": "scattergeo"
        },
        {
         "geo": "geo",
         "hovertemplate": "<b>%{hovertext}</b><br><br>CANTON NAME=Schaffhausen<br>latitude=%{lat}<br>longitude=%{lon}<extra></extra>",
         "hovertext": [
          "Schaffhausen Nord",
          "Schaffhausen Süd",
          "Schaffhausen GB",
          "Neuhausen Grenze DB"
         ],
         "lat": [
          47.7085522346,
          47.6936599501,
          47.7099047495,
          47.693756122
         ],
         "legendgroup": "Schaffhausen",
         "lon": [
          8.63953115782,
          8.62759994147,
          8.6411383884,
          8.62735239409
         ],
         "marker": {
          "color": "#FF97FF",
          "symbol": "circle"
         },
         "mode": "markers",
         "name": "Schaffhausen",
         "showlegend": true,
         "type": "scattergeo"
        },
        {
         "geo": "geo",
         "hovertemplate": "<b>%{hovertext}</b><br><br>CANTON NAME=Genève<br>latitude=%{lat}<br>longitude=%{lon}<extra></extra>",
         "hovertext": [
          "Jonction (Genève)",
          "Vernier-Meyrin Cargo",
          "Genève-La-Praille"
         ],
         "lat": [
          46.2018268164,
          46.2223923025,
          46.1830963057
         ],
         "legendgroup": "Genève",
         "lon": [
          6.12085652522,
          6.08571119632,
          6.12568134222
         ],
         "marker": {
          "color": "#FECB52",
          "symbol": "circle"
         },
         "mode": "markers",
         "name": "Genève",
         "showlegend": true,
         "type": "scattergeo"
        },
        {
         "geo": "geo",
         "hovertemplate": "<b>%{hovertext}</b><br><br>CANTON NAME=Obwalden<br>latitude=%{lat}<br>longitude=%{lon}<extra></extra>",
         "hovertext": [
          "Grafenort Ausweiche",
          "Brunni",
          "Fangboden",
          "Chäppeli"
         ],
         "lat": [
          46.8689287025,
          46.8311594063,
          46.8477569168,
          46.7722442529
         ],
         "legendgroup": "Obwalden",
         "lon": [
          8.37168465712,
          8.38893771389,
          8.3816992028,
          8.15441129374
         ],
         "marker": {
          "color": "#636efa",
          "symbol": "circle"
         },
         "mode": "markers",
         "name": "Obwalden",
         "showlegend": true,
         "type": "scattergeo"
        },
        {
         "geo": "geo",
         "hovertemplate": "<b>%{hovertext}</b><br><br>CANTON NAME=Glarus<br>latitude=%{lat}<br>longitude=%{lon}<extra></extra>",
         "hovertext": [
          "Weesen"
         ],
         "lat": [
          47.1299210158
         ],
         "legendgroup": "Glarus",
         "lon": [
          9.09471054695
         ],
         "marker": {
          "color": "#EF553B",
          "symbol": "circle"
         },
         "mode": "markers",
         "name": "Glarus",
         "showlegend": true,
         "type": "scattergeo"
        },
        {
         "geo": "geo",
         "hovertemplate": "<b>%{hovertext}</b><br><br>CANTON NAME=Zug<br>latitude=%{lat}<br>longitude=%{lon}<extra></extra>",
         "hovertext": [
          "Litti (Baar)",
          "Meierskappel-Risch"
         ],
         "lat": [
          47.2089019376,
          47.1240200019
         ],
         "legendgroup": "Zug",
         "lon": [
          8.53579702525,
          8.45155999786
         ],
         "marker": {
          "color": "#00cc96",
          "symbol": "circle"
         },
         "mode": "markers",
         "name": "Zug",
         "showlegend": true,
         "type": "scattergeo"
        }
       ],
       "layout": {
        "geo": {
         "center": {},
         "domain": {
          "x": [
           0,
           1
          ],
          "y": [
           0,
           1
          ]
         },
         "scope": "europe"
        },
        "legend": {
         "title": {
          "text": "CANTON NAME"
         },
         "tracegroupgap": 0
        },
        "margin": {
         "t": 60
        },
        "template": {
         "data": {
          "bar": [
           {
            "error_x": {
             "color": "#2a3f5f"
            },
            "error_y": {
             "color": "#2a3f5f"
            },
            "marker": {
             "line": {
              "color": "#E5ECF6",
              "width": 0.5
             },
             "pattern": {
              "fillmode": "overlay",
              "size": 10,
              "solidity": 0.2
             }
            },
            "type": "bar"
           }
          ],
          "barpolar": [
           {
            "marker": {
             "line": {
              "color": "#E5ECF6",
              "width": 0.5
             },
             "pattern": {
              "fillmode": "overlay",
              "size": 10,
              "solidity": 0.2
             }
            },
            "type": "barpolar"
           }
          ],
          "carpet": [
           {
            "aaxis": {
             "endlinecolor": "#2a3f5f",
             "gridcolor": "white",
             "linecolor": "white",
             "minorgridcolor": "white",
             "startlinecolor": "#2a3f5f"
            },
            "baxis": {
             "endlinecolor": "#2a3f5f",
             "gridcolor": "white",
             "linecolor": "white",
             "minorgridcolor": "white",
             "startlinecolor": "#2a3f5f"
            },
            "type": "carpet"
           }
          ],
          "choropleth": [
           {
            "colorbar": {
             "outlinewidth": 0,
             "ticks": ""
            },
            "type": "choropleth"
           }
          ],
          "contour": [
           {
            "colorbar": {
             "outlinewidth": 0,
             "ticks": ""
            },
            "colorscale": [
             [
              0,
              "#0d0887"
             ],
             [
              0.1111111111111111,
              "#46039f"
             ],
             [
              0.2222222222222222,
              "#7201a8"
             ],
             [
              0.3333333333333333,
              "#9c179e"
             ],
             [
              0.4444444444444444,
              "#bd3786"
             ],
             [
              0.5555555555555556,
              "#d8576b"
             ],
             [
              0.6666666666666666,
              "#ed7953"
             ],
             [
              0.7777777777777778,
              "#fb9f3a"
             ],
             [
              0.8888888888888888,
              "#fdca26"
             ],
             [
              1,
              "#f0f921"
             ]
            ],
            "type": "contour"
           }
          ],
          "contourcarpet": [
           {
            "colorbar": {
             "outlinewidth": 0,
             "ticks": ""
            },
            "type": "contourcarpet"
           }
          ],
          "heatmap": [
           {
            "colorbar": {
             "outlinewidth": 0,
             "ticks": ""
            },
            "colorscale": [
             [
              0,
              "#0d0887"
             ],
             [
              0.1111111111111111,
              "#46039f"
             ],
             [
              0.2222222222222222,
              "#7201a8"
             ],
             [
              0.3333333333333333,
              "#9c179e"
             ],
             [
              0.4444444444444444,
              "#bd3786"
             ],
             [
              0.5555555555555556,
              "#d8576b"
             ],
             [
              0.6666666666666666,
              "#ed7953"
             ],
             [
              0.7777777777777778,
              "#fb9f3a"
             ],
             [
              0.8888888888888888,
              "#fdca26"
             ],
             [
              1,
              "#f0f921"
             ]
            ],
            "type": "heatmap"
           }
          ],
          "heatmapgl": [
           {
            "colorbar": {
             "outlinewidth": 0,
             "ticks": ""
            },
            "colorscale": [
             [
              0,
              "#0d0887"
             ],
             [
              0.1111111111111111,
              "#46039f"
             ],
             [
              0.2222222222222222,
              "#7201a8"
             ],
             [
              0.3333333333333333,
              "#9c179e"
             ],
             [
              0.4444444444444444,
              "#bd3786"
             ],
             [
              0.5555555555555556,
              "#d8576b"
             ],
             [
              0.6666666666666666,
              "#ed7953"
             ],
             [
              0.7777777777777778,
              "#fb9f3a"
             ],
             [
              0.8888888888888888,
              "#fdca26"
             ],
             [
              1,
              "#f0f921"
             ]
            ],
            "type": "heatmapgl"
           }
          ],
          "histogram": [
           {
            "marker": {
             "pattern": {
              "fillmode": "overlay",
              "size": 10,
              "solidity": 0.2
             }
            },
            "type": "histogram"
           }
          ],
          "histogram2d": [
           {
            "colorbar": {
             "outlinewidth": 0,
             "ticks": ""
            },
            "colorscale": [
             [
              0,
              "#0d0887"
             ],
             [
              0.1111111111111111,
              "#46039f"
             ],
             [
              0.2222222222222222,
              "#7201a8"
             ],
             [
              0.3333333333333333,
              "#9c179e"
             ],
             [
              0.4444444444444444,
              "#bd3786"
             ],
             [
              0.5555555555555556,
              "#d8576b"
             ],
             [
              0.6666666666666666,
              "#ed7953"
             ],
             [
              0.7777777777777778,
              "#fb9f3a"
             ],
             [
              0.8888888888888888,
              "#fdca26"
             ],
             [
              1,
              "#f0f921"
             ]
            ],
            "type": "histogram2d"
           }
          ],
          "histogram2dcontour": [
           {
            "colorbar": {
             "outlinewidth": 0,
             "ticks": ""
            },
            "colorscale": [
             [
              0,
              "#0d0887"
             ],
             [
              0.1111111111111111,
              "#46039f"
             ],
             [
              0.2222222222222222,
              "#7201a8"
             ],
             [
              0.3333333333333333,
              "#9c179e"
             ],
             [
              0.4444444444444444,
              "#bd3786"
             ],
             [
              0.5555555555555556,
              "#d8576b"
             ],
             [
              0.6666666666666666,
              "#ed7953"
             ],
             [
              0.7777777777777778,
              "#fb9f3a"
             ],
             [
              0.8888888888888888,
              "#fdca26"
             ],
             [
              1,
              "#f0f921"
             ]
            ],
            "type": "histogram2dcontour"
           }
          ],
          "mesh3d": [
           {
            "colorbar": {
             "outlinewidth": 0,
             "ticks": ""
            },
            "type": "mesh3d"
           }
          ],
          "parcoords": [
           {
            "line": {
             "colorbar": {
              "outlinewidth": 0,
              "ticks": ""
             }
            },
            "type": "parcoords"
           }
          ],
          "pie": [
           {
            "automargin": true,
            "type": "pie"
           }
          ],
          "scatter": [
           {
            "marker": {
             "colorbar": {
              "outlinewidth": 0,
              "ticks": ""
             }
            },
            "type": "scatter"
           }
          ],
          "scatter3d": [
           {
            "line": {
             "colorbar": {
              "outlinewidth": 0,
              "ticks": ""
             }
            },
            "marker": {
             "colorbar": {
              "outlinewidth": 0,
              "ticks": ""
             }
            },
            "type": "scatter3d"
           }
          ],
          "scattercarpet": [
           {
            "marker": {
             "colorbar": {
              "outlinewidth": 0,
              "ticks": ""
             }
            },
            "type": "scattercarpet"
           }
          ],
          "scattergeo": [
           {
            "marker": {
             "colorbar": {
              "outlinewidth": 0,
              "ticks": ""
             }
            },
            "type": "scattergeo"
           }
          ],
          "scattergl": [
           {
            "marker": {
             "colorbar": {
              "outlinewidth": 0,
              "ticks": ""
             }
            },
            "type": "scattergl"
           }
          ],
          "scattermapbox": [
           {
            "marker": {
             "colorbar": {
              "outlinewidth": 0,
              "ticks": ""
             }
            },
            "type": "scattermapbox"
           }
          ],
          "scatterpolar": [
           {
            "marker": {
             "colorbar": {
              "outlinewidth": 0,
              "ticks": ""
             }
            },
            "type": "scatterpolar"
           }
          ],
          "scatterpolargl": [
           {
            "marker": {
             "colorbar": {
              "outlinewidth": 0,
              "ticks": ""
             }
            },
            "type": "scatterpolargl"
           }
          ],
          "scatterternary": [
           {
            "marker": {
             "colorbar": {
              "outlinewidth": 0,
              "ticks": ""
             }
            },
            "type": "scatterternary"
           }
          ],
          "surface": [
           {
            "colorbar": {
             "outlinewidth": 0,
             "ticks": ""
            },
            "colorscale": [
             [
              0,
              "#0d0887"
             ],
             [
              0.1111111111111111,
              "#46039f"
             ],
             [
              0.2222222222222222,
              "#7201a8"
             ],
             [
              0.3333333333333333,
              "#9c179e"
             ],
             [
              0.4444444444444444,
              "#bd3786"
             ],
             [
              0.5555555555555556,
              "#d8576b"
             ],
             [
              0.6666666666666666,
              "#ed7953"
             ],
             [
              0.7777777777777778,
              "#fb9f3a"
             ],
             [
              0.8888888888888888,
              "#fdca26"
             ],
             [
              1,
              "#f0f921"
             ]
            ],
            "type": "surface"
           }
          ],
          "table": [
           {
            "cells": {
             "fill": {
              "color": "#EBF0F8"
             },
             "line": {
              "color": "white"
             }
            },
            "header": {
             "fill": {
              "color": "#C8D4E3"
             },
             "line": {
              "color": "white"
             }
            },
            "type": "table"
           }
          ]
         },
         "layout": {
          "annotationdefaults": {
           "arrowcolor": "#2a3f5f",
           "arrowhead": 0,
           "arrowwidth": 1
          },
          "autotypenumbers": "strict",
          "coloraxis": {
           "colorbar": {
            "outlinewidth": 0,
            "ticks": ""
           }
          },
          "colorscale": {
           "diverging": [
            [
             0,
             "#8e0152"
            ],
            [
             0.1,
             "#c51b7d"
            ],
            [
             0.2,
             "#de77ae"
            ],
            [
             0.3,
             "#f1b6da"
            ],
            [
             0.4,
             "#fde0ef"
            ],
            [
             0.5,
             "#f7f7f7"
            ],
            [
             0.6,
             "#e6f5d0"
            ],
            [
             0.7,
             "#b8e186"
            ],
            [
             0.8,
             "#7fbc41"
            ],
            [
             0.9,
             "#4d9221"
            ],
            [
             1,
             "#276419"
            ]
           ],
           "sequential": [
            [
             0,
             "#0d0887"
            ],
            [
             0.1111111111111111,
             "#46039f"
            ],
            [
             0.2222222222222222,
             "#7201a8"
            ],
            [
             0.3333333333333333,
             "#9c179e"
            ],
            [
             0.4444444444444444,
             "#bd3786"
            ],
            [
             0.5555555555555556,
             "#d8576b"
            ],
            [
             0.6666666666666666,
             "#ed7953"
            ],
            [
             0.7777777777777778,
             "#fb9f3a"
            ],
            [
             0.8888888888888888,
             "#fdca26"
            ],
            [
             1,
             "#f0f921"
            ]
           ],
           "sequentialminus": [
            [
             0,
             "#0d0887"
            ],
            [
             0.1111111111111111,
             "#46039f"
            ],
            [
             0.2222222222222222,
             "#7201a8"
            ],
            [
             0.3333333333333333,
             "#9c179e"
            ],
            [
             0.4444444444444444,
             "#bd3786"
            ],
            [
             0.5555555555555556,
             "#d8576b"
            ],
            [
             0.6666666666666666,
             "#ed7953"
            ],
            [
             0.7777777777777778,
             "#fb9f3a"
            ],
            [
             0.8888888888888888,
             "#fdca26"
            ],
            [
             1,
             "#f0f921"
            ]
           ]
          },
          "colorway": [
           "#636efa",
           "#EF553B",
           "#00cc96",
           "#ab63fa",
           "#FFA15A",
           "#19d3f3",
           "#FF6692",
           "#B6E880",
           "#FF97FF",
           "#FECB52"
          ],
          "font": {
           "color": "#2a3f5f"
          },
          "geo": {
           "bgcolor": "white",
           "lakecolor": "white",
           "landcolor": "#E5ECF6",
           "showlakes": true,
           "showland": true,
           "subunitcolor": "white"
          },
          "hoverlabel": {
           "align": "left"
          },
          "hovermode": "closest",
          "mapbox": {
           "style": "light"
          },
          "paper_bgcolor": "white",
          "plot_bgcolor": "#E5ECF6",
          "polar": {
           "angularaxis": {
            "gridcolor": "white",
            "linecolor": "white",
            "ticks": ""
           },
           "bgcolor": "#E5ECF6",
           "radialaxis": {
            "gridcolor": "white",
            "linecolor": "white",
            "ticks": ""
           }
          },
          "scene": {
           "xaxis": {
            "backgroundcolor": "#E5ECF6",
            "gridcolor": "white",
            "gridwidth": 2,
            "linecolor": "white",
            "showbackground": true,
            "ticks": "",
            "zerolinecolor": "white"
           },
           "yaxis": {
            "backgroundcolor": "#E5ECF6",
            "gridcolor": "white",
            "gridwidth": 2,
            "linecolor": "white",
            "showbackground": true,
            "ticks": "",
            "zerolinecolor": "white"
           },
           "zaxis": {
            "backgroundcolor": "#E5ECF6",
            "gridcolor": "white",
            "gridwidth": 2,
            "linecolor": "white",
            "showbackground": true,
            "ticks": "",
            "zerolinecolor": "white"
           }
          },
          "shapedefaults": {
           "line": {
            "color": "#2a3f5f"
           }
          },
          "ternary": {
           "aaxis": {
            "gridcolor": "white",
            "linecolor": "white",
            "ticks": ""
           },
           "baxis": {
            "gridcolor": "white",
            "linecolor": "white",
            "ticks": ""
           },
           "bgcolor": "#E5ECF6",
           "caxis": {
            "gridcolor": "white",
            "linecolor": "white",
            "ticks": ""
           }
          },
          "title": {
           "x": 0.05
          },
          "xaxis": {
           "automargin": true,
           "gridcolor": "white",
           "linecolor": "white",
           "ticks": "",
           "title": {
            "standoff": 15
           },
           "zerolinecolor": "white",
           "zerolinewidth": 2
          },
          "yaxis": {
           "automargin": true,
           "gridcolor": "white",
           "linecolor": "white",
           "ticks": "",
           "title": {
            "standoff": 15
           },
           "zerolinecolor": "white",
           "zerolinewidth": 2
          }
         }
        }
       }
      },
      "text/html": [
       "<div>                            <div id=\"8fd54242-3db3-4ef8-b0c0-555b22e4be93\" class=\"plotly-graph-div\" style=\"height:525px; width:100%;\"></div>            <script type=\"text/javascript\">                require([\"plotly\"], function(Plotly) {                    window.PLOTLYENV=window.PLOTLYENV || {};                                    if (document.getElementById(\"8fd54242-3db3-4ef8-b0c0-555b22e4be93\")) {                    Plotly.newPlot(                        \"8fd54242-3db3-4ef8-b0c0-555b22e4be93\",                        [{\"geo\":\"geo\",\"hovertemplate\":\"<b>%{hovertext}</b><br><br>CANTON NAME=Uri<br>latitude=%{lat}<br>longitude=%{lon}<extra></extra>\",\"hovertext\":[\"Ryn\\u00e4cht Ueberholgleisanlage\",\"Amsteg-Silenen\",\"Pfaffensprung (Spw)\",\"Wassen\",\"Gurtnellen\",\"Amsteg Grund (Agl)\",\"Ryn\\u00e4cht (Abzw)\",\"Ryn\\u00e4cht Nord\"],\"lat\":[46.8476199974,46.7810020046,46.7155383078,46.7016413545,46.7293535076,46.7802916014,46.8434015835,46.8633479349],\"legendgroup\":\"Uri\",\"lon\":[8.6410899937,8.67210554441,8.60897330522,8.59702614292,8.62247618308,8.66952652673,8.6429016033,8.63546685585],\"marker\":{\"color\":\"#636efa\",\"symbol\":\"circle\"},\"mode\":\"markers\",\"name\":\"Uri\",\"showlegend\":true,\"type\":\"scattergeo\"},{\"geo\":\"geo\",\"hovertemplate\":\"<b>%{hovertext}</b><br><br>CANTON NAME=St. Gallen<br>latitude=%{lat}<br>longitude=%{lon}<extra></extra>\",\"hovertext\":[\"Rorschach GB\",\"Neugr\\u00fct (Verzw)\",\"Gossau-Sommerau (Agl)\",\"Sargans Schleife (Verzw)\",\"Bazenheid ZAB (Agl)\",\"Altenrhein\",\"Horchental\",\"Haag-Gams\",\"Buchs SG Zement\",\"St. Gallen GB\",\"Burgau Deponie ZAB (Agl)\"],\"lat\":[47.4782899987,47.0880335534,47.4200890469,47.0418657009,47.4187931737,47.4827469932,47.4735275034,47.2073497028,47.1684504359,47.4191872532,47.4074212676],\"legendgroup\":\"St. Gallen\",\"lon\":[9.51321000448,9.4981939521,9.24065789268,9.46505269756,9.07275964792,9.54750972343,9.44057099449,9.47886703694,9.47987096106,9.36466285385,9.21484599582],\"marker\":{\"color\":\"#EF553B\",\"symbol\":\"circle\"},\"mode\":\"markers\",\"name\":\"St. Gallen\",\"showlegend\":true,\"type\":\"scattergeo\"},{\"geo\":\"geo\",\"hovertemplate\":\"<b>%{hovertext}</b><br><br>CANTON NAME=Graub\\u00fcnden<br>latitude=%{lat}<br>longitude=%{lon}<extra></extra>\",\"hovertext\":[\"Zizers Altl\\u00f6ser\",\"Reichenau Farsch (Abzw)\",\"Chur GB\",\"Serneus\",\"Schnaus-Strada\",\"Sils im Domleschg (Abzw)\",\"Sedrun SMF\",\"Trimmis\",\"Zizers SBB\"],\"lat\":[46.9385299946,46.8227299943,46.8513299984,46.8937099994,46.7745399974,46.7002799963,46.6658503466,46.9081299987,46.9322124385],\"legendgroup\":\"Graub\\u00fcnden\",\"lon\":[9.55911999658,9.40456000474,9.52228999968,9.84322999424,9.17695000152,9.45859999613,8.77019939485,9.55146000341,9.5595697146],\"marker\":{\"color\":\"#00cc96\",\"symbol\":\"circle\"},\"mode\":\"markers\",\"name\":\"Graub\\u00fcnden\",\"showlegend\":true,\"type\":\"scattergeo\"},{\"geo\":\"geo\",\"hovertemplate\":\"<b>%{hovertext}</b><br><br>CANTON NAME=Z\\u00fcrich<br>latitude=%{lat}<br>longitude=%{lon}<extra></extra>\",\"hovertext\":[\"Z\\u00fcrich Vorbahnhof S\\u00fcd\",\"Fehraltorf Industrie\",\"H\\u00f6cklerbr\\u00fccke\",\"Opfikon S\\u00fcd\",\"Birmensdorf Industrie\",\"Marthalen Nord\",\"Winterthur West (Abzw)\",\"Weiach-Kaiserstuhl\",\"Z\\u00fcrich M\\u00fclligen\",\"Z\\u00fcrich Vorbahnhof\",\"Z\\u00fcrich Herdern Abstellgruppe\",\"Z\\u00fcrich RB Limmattal Depot/Bau\",\"B\\u00e4retswil Tobel (Agl)\",\"H\\u00fcrlistein (Abzw)\",\"Buchs-D\\u00e4llikon Industrie\",\"Sihlbrugg\",\"Riet (Verzw)\",\"Dorfnest (Abzw)\",\"Z\\u00fcrich Vorbahnhof West\",\"Z\\u00fcrich Gubrist\",\"Otelfingen Industrie\"],\"lat\":[47.3830999967,47.3870035092,47.3431120474,47.424571746,47.3642370496,47.63509,47.4924520624,47.5636534141,47.3966048071,47.3844221618,47.3907183769,47.4149574684,47.3349018864,47.4224509588,47.4544899953,47.2384279346,47.4389701446,47.4433780269,47.3878351539,47.4245987421,47.4561026894],\"legendgroup\":\"Z\\u00fcrich\",\"lon\":[8.51994000043,8.74681254282,8.51988884473,8.5573521678,8.43165888868,8.65293999962,8.71730239711,8.42554072477,8.47040273643,8.51617022661,8.50141425139,8.3925195546,8.8445650681,8.66343003227,8.41973999327,8.57705894298,8.56505484096,8.60956980369,8.50616589282,8.48573540961,8.39820638704],\"marker\":{\"color\":\"#ab63fa\",\"symbol\":\"circle\"},\"mode\":\"markers\",\"name\":\"Z\\u00fcrich\",\"showlegend\":true,\"type\":\"scattergeo\"},{\"geo\":\"geo\",\"hovertemplate\":\"<b>%{hovertext}</b><br><br>CANTON NAME=Bern<br>latitude=%{lat}<br>longitude=%{lon}<extra></extra>\",\"hovertext\":[\"Bern Wylerfeld\",\"Leuzigen\",\"Arch\",\"Felsenburg\",\"Wankdorf (Abzw)\",\"Sumiswald-Gr\\u00fcnen ETB\",\"Burghof\",\"Sandacher (Spw)\",\"Niederbottigen BN\",\"Langenthal GB\",\"Krattighalde\",\"Mattstetten (Abzw)\",\"Leissigbad (Agl)\",\"Wengi\",\"Hondrich S\\u00fcd\",\"Spiezmoos S\\u00fcd\",\"Bern Fischerm\\u00e4tteli\",\"Bern Wyler\",\"Frutigen Nordportal (Abzw)\",\"Studen Auto\",\"Riedtwil\",\"R\\u00fcti bei B\\u00fcren\",\"Spiez (Abzw)\",\"Bern Weyermannshaus\",\"Zollikofen West (Spw)\",\"Bern Wyler West (Spw)\",\"Biel Produktionsanlage Ost\",\"Brunnenfluh\",\"Biel/Bienne RB\",\"Gwatt\",\"Adelrain (Abzw)\",\"Thun GB\"],\"lat\":[46.9658404538,47.177856204,47.1644670548,46.5315384361,46.9653248908,47.0255003369,47.0320070604,47.0598852111,46.9424987918,47.2147993223,46.6625623974,47.0350840293,46.6560035704,46.6050804133,46.6696951163,46.691681091,46.9417654348,46.9665979233,46.577701242,47.1076486331,47.1401578848,47.1545718359,46.6896899922,46.9473252562,46.9929599947,46.9637567338,47.1442817243,46.7474399346,47.1432755397,46.7254448843,46.5681930353,46.7564940855],\"legendgroup\":\"Bern\",\"lon\":[7.45830929359,7.44858506857,7.41848919112,7.67574621948,7.4721375473,7.7370120311,7.76113292069,7.574782992,7.36802605283,7.77006868277,7.73954214877,7.52579634501,7.75309115772,7.66202259502,7.67018399352,7.66137505652,7.41212934785,7.46028536399,7.64875890915,7.3062944582,7.69327601162,7.402156887,7.67046865883,7.41092873087,7.4646399934,7.44913410067,7.26923619667,8.15529994003,7.26820511464,7.620090308,7.64415519812,7.6266673619],\"marker\":{\"color\":\"#FFA15A\",\"symbol\":\"circle\"},\"mode\":\"markers\",\"name\":\"Bern\",\"showlegend\":true,\"type\":\"scattergeo\"},{\"geo\":\"geo\",\"hovertemplate\":\"<b>%{hovertext}</b><br><br>CANTON NAME=Luzern<br>latitude=%{lat}<br>longitude=%{lon}<extra></extra>\",\"hovertext\":[\"Triengen-Winikon\",\"Luzern Cargo\",\"Luzern Steghof (Abzw)\",\"Geuensee\",\"Gettnau G\\u00fcteranlage\",\"Wiggen\",\"Sursee Wassermatte\",\"H\\u00fcswil West\",\"B\\u00fcron-Bad Knutwil\"],\"lat\":[47.2348976947,47.0475999963,47.0414600014,47.1953064154,47.140365885,46.8998680563,47.1816769187,47.1265099944,47.2101724897],\"legendgroup\":\"Luzern\",\"lon\":[8.07335769416,8.31312000425,8.30998999757,8.103960875,7.9843539933,7.90139123053,8.1078774262,7.89915999625,8.08946834794],\"marker\":{\"color\":\"#19d3f3\",\"symbol\":\"circle\"},\"mode\":\"markers\",\"name\":\"Luzern\",\"showlegend\":true,\"type\":\"scattergeo\"},{\"geo\":\"geo\",\"hovertemplate\":\"<b>%{hovertext}</b><br><br>CANTON NAME=Schwyz<br>latitude=%{lat}<br>longitude=%{lon}<extra></extra>\",\"hovertext\":[\"Kaltenboden (Agl)\"],\"lat\":[47.1685525691],\"legendgroup\":\"Schwyz\",\"lon\":[8.72371823571],\"marker\":{\"color\":\"#FF6692\",\"symbol\":\"circle\"},\"mode\":\"markers\",\"name\":\"Schwyz\",\"showlegend\":true,\"type\":\"scattergeo\"},{\"geo\":\"geo\",\"hovertemplate\":\"<b>%{hovertext}</b><br><br>CANTON NAME=Valais<br>latitude=%{lat}<br>longitude=%{lon}<extra></extra>\",\"hovertext\":[\"Martigny-Bourg CT\",\"Gamsen SBB\",\"Les Paluds\",\"St. German (Abzw)\",\"Monthey Giovanola (embr)\",\"Mundbach (Spw)\",\"Rarnerkumme (Spw)\",\"Martigny Aluminium (embr)\",\"Monthey Centre agr Bas-V (embr\",\"Monthey Agip (embr)\"],\"lat\":[46.104352779,46.3038645009,46.229569314,46.3061654866,46.2649997891,46.3084837812,46.3203701413,46.1122608077,46.2807072506,46.2886970208],\"legendgroup\":\"Valais\",\"lon\":[7.08773320572,7.94026732178,7.00042308458,7.84409489603,6.94962934567,7.94735006109,7.80263015119,7.09604383103,6.94190185384,6.93593998425],\"marker\":{\"color\":\"#B6E880\",\"symbol\":\"circle\"},\"mode\":\"markers\",\"name\":\"Valais\",\"showlegend\":true,\"type\":\"scattergeo\"},{\"geo\":\"geo\",\"hovertemplate\":\"<b>%{hovertext}</b><br><br>CANTON NAME=Aargau<br>latitude=%{lat}<br>longitude=%{lon}<extra></extra>\",\"hovertext\":[\"Baden Oberstadt\",\"Mellingen\",\"Z\\u00fcrich RB Limmattal\",\"Gexi\",\"Full\",\"Effingen\",\"Silberen (Abzw)\",\"Waltenschwil\",\"Brugg AG VL\",\"Aarau GB\",\"Buchhalde (Spw)\",\"Sisseln\",\"Rothrist GB\",\"Dottikon Umspannanlage\",\"Schinznach Dorf\",\"Felsenau AG\",\"Leibstadt\",\"Hornussen\",\"K\\u00f6lliken Sonderm\\u00fclldeponie\",\"Suhr Migros\"],\"lat\":[47.4696307036,47.4298191058,47.4228441569,47.392529356,47.6094052207,47.4765572024,47.4213547505,47.3270718969,47.4748980346,47.3945291184,47.4999412727,47.5456366074,47.2950841103,47.3629226819,47.4570946121,47.605569878,47.5932391961,47.497337032,47.3237199955,47.379830001],\"legendgroup\":\"Aargau\",\"lon\":[8.30429429929,8.27376148736,8.37731216103,8.19264182837,8.19698044492,8.10068310694,8.386977419,8.29729575216,8.20505110219,8.06643786516,8.04733803901,7.99309503702,7.85622155516,8.24918198596,8.13077880244,8.22118323706,8.16555706011,8.05987704592,8.01051999942,8.08958000399],\"marker\":{\"color\":\"#FF97FF\",\"symbol\":\"circle\"},\"mode\":\"markers\",\"name\":\"Aargau\",\"showlegend\":true,\"type\":\"scattergeo\"},{\"geo\":\"geo\",\"hovertemplate\":\"<b>%{hovertext}</b><br><br>CANTON NAME=Vaud<br>latitude=%{lat}<br>longitude=%{lon}<extra></extra>\",\"hovertext\":[\"Renens VD Est (bif)\",\"Lonay B (bif)\",\"Bossy Bois (embr)\",\"La Lance (diag)\",\"Ecl\\u00e9pens sud\",\"Renens VD Entrep\\u00f4ts\",\"Archy A (bif)\",\"Archy (bif)\",\"Vallorbe-Fronti\\u00e8re\",\"Le Verney (embr)\",\"Lausanne-Triage Est\",\"Lausanne-Triage SALT\",\"Chavornay-Industrie\",\"Onnens-Bonvillars PMP\",\"Bi\\u00e8re-Casernes\",\"Lausanne-Triage D\",\"St-Triphon\",\"Daillens\",\"Renens VD Ouest (bif)\",\"Lonay A (bif)\",\"Denges B (bif)\",\"Orbe-Industrie (marchandises)\",\"Renens VD Larges Pi\\u00e8ces (embr)\",\"Lausanne-S\\u00e9beillon\",\"Lausanne-Triage\",\"Onnens-Bonvillars\"],\"lat\":[46.533255628,46.5248086896,46.8283375406,46.8595387098,46.6496999805,46.5348265818,46.543493585,46.5422333879,46.7135937488,46.4880008451,46.5356833039,46.523492792,46.7133295691,46.8311372998,46.5285300024,46.5324303042,46.2787989971,46.6322813074,46.5407882914,46.5236124649,46.5307684935,46.7209171508,46.540099004,46.5242746924,46.5271546532,46.8326405609],\"legendgroup\":\"Vaud\",\"lon\":[6.5870726329,6.52433932758,6.96045957309,6.7413503958,6.55154003624,6.5826885657,6.56377169322,6.55879211212,6.34776174154,6.7630682738,6.55347427058,6.52741192949,6.55944884623,6.684652022,6.35197000449,6.54762625942,6.97189589911,6.54247860789,6.57208700737,6.5210152788,6.54434169958,6.5414957391,6.57446989196,6.61102936515,6.53929685172,6.68985890083],\"marker\":{\"color\":\"#FECB52\",\"symbol\":\"circle\"},\"mode\":\"markers\",\"name\":\"Vaud\",\"showlegend\":true,\"type\":\"scattergeo\"},{\"geo\":\"geo\",\"hovertemplate\":\"<b>%{hovertext}</b><br><br>CANTON NAME=Ticino<br>latitude=%{lat}<br>longitude=%{lon}<extra></extra>\",\"hovertext\":[\"Giornico (c bin)\",\"Bellinzona S. Paolo\",\"Pollegio\",\"Pollegio Nord (dira)\",\"Pollegio Sud (Dira)\",\"Stabio Cargo\",\"Lugano Vedeggio\",\"Giustizia (dira)\",\"Pollegio binario di sorpasso\",\"Balerna per Smistamento (bif)\",\"Sigirino\",\"Faido SMF\",\"Osogna-Cresciano\",\"Rodi-Fiesso\",\"Pasquerio (bin rac)\",\"Castione Impianto d'inversione\",\"Chiasso Smistamento\",\"Claro\",\"Pozzo Negro (dira)\"],\"lat\":[46.4069794498,46.2035996482,46.3640702857,46.3679947891,46.3457099995,45.8568098896,46.0200516925,46.3235262684,46.3593936983,45.8491526568,46.0754770941,46.4978372383,46.299265671,46.4902514814,46.3606200023,46.2284443702,45.8365050217,46.2531780754,46.3725834284],\"legendgroup\":\"Ticino\",\"lon\":[8.869187641,9.03847697033,8.942607312,8.93216172722,8.96717000153,8.95570938989,8.91770183448,8.98219842278,8.95109086389,9.00000331082,8.92845432708,8.81062794366,8.99414562156,8.74016246506,8.95278999472,9.04089387436,8.99907734861,9.01704674478,8.9254072784],\"marker\":{\"color\":\"#636efa\",\"symbol\":\"circle\"},\"mode\":\"markers\",\"name\":\"Ticino\",\"showlegend\":true,\"type\":\"scattergeo\"},{\"geo\":\"geo\",\"hovertemplate\":\"<b>%{hovertext}</b><br><br>CANTON NAME=Neuch\\u00e2tel<br>latitude=%{lat}<br>longitude=%{lon}<extra></extra>\",\"hovertext\":[\"Le Creux\",\"Convers\",\"Cottendart (embr)\",\"Le Locle-Fronti\\u00e8re\",\"Neuch\\u00e2tel Cargo\",\"Bellevue NE\",\"La Chaux-de-Fonds Ouest\",\"Les Eplatures\",\"Neuch\\u00e2tel Est (bif)\",\"Les Verri\\u00e8res-Fronti\\u00e8re\",\"Les Verri\\u00e8res\"],\"lat\":[47.099934783,47.0840239105,46.9712879017,47.0502175411,46.998919994,47.1183059987,47.0913353232,47.0834900254,47.000487583,46.8991653952,46.9053266499],\"legendgroup\":\"Neuch\\u00e2tel\",\"lon\":[6.86988491447,6.86466542968,6.8456960323,6.7169422107,6.94161999726,6.86426099394,6.81278026047,6.79759739638,6.94535220902,6.45900262048,6.47939281945],\"marker\":{\"color\":\"#EF553B\",\"symbol\":\"circle\"},\"mode\":\"markers\",\"name\":\"Neuch\\u00e2tel\",\"showlegend\":true,\"type\":\"scattergeo\"},{\"geo\":\"geo\",\"hovertemplate\":\"<b>%{hovertext}</b><br><br>CANTON NAME=Fribourg<br>latitude=%{lat}<br>longitude=%{lon}<extra></extra>\",\"hovertext\":[\"Siporex (embr)\",\"Lussy FR\",\"Bossy Moulins (embr)\",\"S\\u00e2les\",\"L\\u00e9chelles Tanklager (embr)\",\"S\\u00e9vaz (embr)\"],\"lat\":[46.8400849646,46.7092645262,46.8232962185,46.6401471807,46.8307127794,46.8375485223],\"legendgroup\":\"Fribourg\",\"lon\":[6.85670710318,6.93850939126,6.97112889372,6.97440320441,7.04013107404,6.86304086517],\"marker\":{\"color\":\"#00cc96\",\"symbol\":\"circle\"},\"mode\":\"markers\",\"name\":\"Fribourg\",\"showlegend\":true,\"type\":\"scattergeo\"},{\"geo\":\"geo\",\"hovertemplate\":\"<b>%{hovertext}</b><br><br>CANTON NAME=Solothurn<br>latitude=%{lat}<br>longitude=%{lon}<extra></extra>\",\"hovertext\":[\"H\\u00e4rkingen Post\",\"B\\u00e4rschwil\",\"Olten Tunnel (Spw)\",\"Subingen\",\"Hauenstein S\\u00fcd (Spw)\",\"L\\u00fcsslingen\",\"Bellach Industrie\",\"Sch\\u00f6nenwerd SO Ost (Spw)\",\"Olten SBB/CFF/FFS Cargo\",\"Olten RB\",\"Derendingen\",\"D\\u00e4niken RB\"],\"lat\":[47.3216141736,47.4007866647,47.372184921,47.193520569,47.3947098898,47.1925078439,47.2084314528,47.3778500013,47.3487483429,47.3625146309,47.2025051462,47.3534202727],\"legendgroup\":\"Solothurn\",\"lon\":[7.81845975418,7.47691415554,7.91544477046,7.61123264995,7.90728858281,7.49660075225,7.49540631743,8.00889999539,7.90710378002,7.91518798834,7.58210898315,7.97128541429],\"marker\":{\"color\":\"#ab63fa\",\"symbol\":\"circle\"},\"mode\":\"markers\",\"name\":\"Solothurn\",\"showlegend\":true,\"type\":\"scattergeo\"},{\"geo\":\"geo\",\"hovertemplate\":\"<b>%{hovertext}</b><br><br>CANTON NAME=Basel-Stadt<br>latitude=%{lat}<br>longitude=%{lon}<extra></extra>\",\"hovertext\":[\"Basel SBB GB\",\"Basel St. Johann Hafen\",\"Basel Bad Rbf KH (Abzw)\",\"Basel Grenze (FR)\",\"Basel Kleinh\\u00fcningen Hafen\",\"Basel VB Grenze\"],\"lat\":[47.5423574611,47.570720122,47.5834637369,47.5775602038,47.578023815,47.5602514264],\"legendgroup\":\"Basel-Stadt\",\"lon\":[7.6088322933,7.58348349316,7.60191075776,7.56759508285,7.58773303341,7.61318508973],\"marker\":{\"color\":\"#FFA15A\",\"symbol\":\"circle\"},\"mode\":\"markers\",\"name\":\"Basel-Stadt\",\"showlegend\":true,\"type\":\"scattergeo\"},{\"geo\":\"geo\",\"hovertemplate\":\"<b>%{hovertext}</b><br><br>CANTON NAME=Thurgau<br>latitude=%{lat}<br>longitude=%{lon}<extra></extra>\",\"hovertext\":[\"Weinfelden S\\u00fcd\",\"Wil Ost\",\"Weinfelden KVA Thurgau (Abzw)\",\"Frauenfeld Zuckerr\\u00fcben\",\"Altishausen\",\"Romanshorn GB\",\"Frauenfeld Paketpost\"],\"lat\":[47.5614338238,47.4532599958,47.558265211,47.5541876373,47.5964882997,47.5617457051,47.5713004729],\"legendgroup\":\"Thurgau\",\"lon\":[9.09490637945,9.04366999635,9.1272165049,8.87520317082,9.16237708933,9.37943029752,8.9214246381],\"marker\":{\"color\":\"#19d3f3\",\"symbol\":\"circle\"},\"mode\":\"markers\",\"name\":\"Thurgau\",\"showlegend\":true,\"type\":\"scattergeo\"},{\"geo\":\"geo\",\"hovertemplate\":\"<b>%{hovertext}</b><br><br>CANTON NAME=Basel-Landschaft<br>latitude=%{lat}<br>longitude=%{lon}<extra></extra>\",\"hovertext\":[\"Basel SBB RB II\",\"Liestal Nord (Abzw)\",\"Basel SBB Dreispitz\",\"Hauenstein Nord (Spw)\",\"Birsfelden Hafen\",\"Frenkendorf-F. Containerdepot\",\"Basel SBB RB\",\"Pratteln Ueberwerfung\",\"Liesberg\",\"Basel SBB RB Nordkopf (Abzw)\",\"Schweizerhalle\"],\"lat\":[47.5352294678,47.4878822562,47.5260785827,47.4175142528,47.5436632763,47.5004947792,47.5363585723,47.5233550572,47.3982052643,47.5396484366,47.5315043299],\"legendgroup\":\"Basel-Landschaft\",\"lon\":[7.65619878319,7.72623095592,7.60721341683,7.89902807343,7.65456729565,7.71925850693,7.64638231556,7.67909755306,7.4389852783,7.63236433818,7.66231907116],\"marker\":{\"color\":\"#FF6692\",\"symbol\":\"circle\"},\"mode\":\"markers\",\"name\":\"Basel-Landschaft\",\"showlegend\":true,\"type\":\"scattergeo\"},{\"geo\":\"geo\",\"hovertemplate\":\"<b>%{hovertext}</b><br><br>CANTON NAME=Jura<br>latitude=%{lat}<br>longitude=%{lon}<extra></extra>\",\"hovertext\":[\"Alle-La Fenatte Cargo\",\"Soyhi\\u00e8res\",\"Bure-Casernes\",\"Choindez\"],\"lat\":[47.4292179942,47.389102259,47.4538189734,47.3240181689],\"legendgroup\":\"Jura\",\"lon\":[7.14240599489,7.37072516681,7.0115297727,7.37585466016],\"marker\":{\"color\":\"#B6E880\",\"symbol\":\"circle\"},\"mode\":\"markers\",\"name\":\"Jura\",\"showlegend\":true,\"type\":\"scattergeo\"},{\"geo\":\"geo\",\"hovertemplate\":\"<b>%{hovertext}</b><br><br>CANTON NAME=Schaffhausen<br>latitude=%{lat}<br>longitude=%{lon}<extra></extra>\",\"hovertext\":[\"Schaffhausen Nord\",\"Schaffhausen S\\u00fcd\",\"Schaffhausen GB\",\"Neuhausen Grenze DB\"],\"lat\":[47.7085522346,47.6936599501,47.7099047495,47.693756122],\"legendgroup\":\"Schaffhausen\",\"lon\":[8.63953115782,8.62759994147,8.6411383884,8.62735239409],\"marker\":{\"color\":\"#FF97FF\",\"symbol\":\"circle\"},\"mode\":\"markers\",\"name\":\"Schaffhausen\",\"showlegend\":true,\"type\":\"scattergeo\"},{\"geo\":\"geo\",\"hovertemplate\":\"<b>%{hovertext}</b><br><br>CANTON NAME=Gen\\u00e8ve<br>latitude=%{lat}<br>longitude=%{lon}<extra></extra>\",\"hovertext\":[\"Jonction (Gen\\u00e8ve)\",\"Vernier-Meyrin Cargo\",\"Gen\\u00e8ve-La-Praille\"],\"lat\":[46.2018268164,46.2223923025,46.1830963057],\"legendgroup\":\"Gen\\u00e8ve\",\"lon\":[6.12085652522,6.08571119632,6.12568134222],\"marker\":{\"color\":\"#FECB52\",\"symbol\":\"circle\"},\"mode\":\"markers\",\"name\":\"Gen\\u00e8ve\",\"showlegend\":true,\"type\":\"scattergeo\"},{\"geo\":\"geo\",\"hovertemplate\":\"<b>%{hovertext}</b><br><br>CANTON NAME=Obwalden<br>latitude=%{lat}<br>longitude=%{lon}<extra></extra>\",\"hovertext\":[\"Grafenort Ausweiche\",\"Brunni\",\"Fangboden\",\"Ch\\u00e4ppeli\"],\"lat\":[46.8689287025,46.8311594063,46.8477569168,46.7722442529],\"legendgroup\":\"Obwalden\",\"lon\":[8.37168465712,8.38893771389,8.3816992028,8.15441129374],\"marker\":{\"color\":\"#636efa\",\"symbol\":\"circle\"},\"mode\":\"markers\",\"name\":\"Obwalden\",\"showlegend\":true,\"type\":\"scattergeo\"},{\"geo\":\"geo\",\"hovertemplate\":\"<b>%{hovertext}</b><br><br>CANTON NAME=Glarus<br>latitude=%{lat}<br>longitude=%{lon}<extra></extra>\",\"hovertext\":[\"Weesen\"],\"lat\":[47.1299210158],\"legendgroup\":\"Glarus\",\"lon\":[9.09471054695],\"marker\":{\"color\":\"#EF553B\",\"symbol\":\"circle\"},\"mode\":\"markers\",\"name\":\"Glarus\",\"showlegend\":true,\"type\":\"scattergeo\"},{\"geo\":\"geo\",\"hovertemplate\":\"<b>%{hovertext}</b><br><br>CANTON NAME=Zug<br>latitude=%{lat}<br>longitude=%{lon}<extra></extra>\",\"hovertext\":[\"Litti (Baar)\",\"Meierskappel-Risch\"],\"lat\":[47.2089019376,47.1240200019],\"legendgroup\":\"Zug\",\"lon\":[8.53579702525,8.45155999786],\"marker\":{\"color\":\"#00cc96\",\"symbol\":\"circle\"},\"mode\":\"markers\",\"name\":\"Zug\",\"showlegend\":true,\"type\":\"scattergeo\"}],                        {\"template\":{\"data\":{\"bar\":[{\"error_x\":{\"color\":\"#2a3f5f\"},\"error_y\":{\"color\":\"#2a3f5f\"},\"marker\":{\"line\":{\"color\":\"#E5ECF6\",\"width\":0.5},\"pattern\":{\"fillmode\":\"overlay\",\"size\":10,\"solidity\":0.2}},\"type\":\"bar\"}],\"barpolar\":[{\"marker\":{\"line\":{\"color\":\"#E5ECF6\",\"width\":0.5},\"pattern\":{\"fillmode\":\"overlay\",\"size\":10,\"solidity\":0.2}},\"type\":\"barpolar\"}],\"carpet\":[{\"aaxis\":{\"endlinecolor\":\"#2a3f5f\",\"gridcolor\":\"white\",\"linecolor\":\"white\",\"minorgridcolor\":\"white\",\"startlinecolor\":\"#2a3f5f\"},\"baxis\":{\"endlinecolor\":\"#2a3f5f\",\"gridcolor\":\"white\",\"linecolor\":\"white\",\"minorgridcolor\":\"white\",\"startlinecolor\":\"#2a3f5f\"},\"type\":\"carpet\"}],\"choropleth\":[{\"colorbar\":{\"outlinewidth\":0,\"ticks\":\"\"},\"type\":\"choropleth\"}],\"contour\":[{\"colorbar\":{\"outlinewidth\":0,\"ticks\":\"\"},\"colorscale\":[[0.0,\"#0d0887\"],[0.1111111111111111,\"#46039f\"],[0.2222222222222222,\"#7201a8\"],[0.3333333333333333,\"#9c179e\"],[0.4444444444444444,\"#bd3786\"],[0.5555555555555556,\"#d8576b\"],[0.6666666666666666,\"#ed7953\"],[0.7777777777777778,\"#fb9f3a\"],[0.8888888888888888,\"#fdca26\"],[1.0,\"#f0f921\"]],\"type\":\"contour\"}],\"contourcarpet\":[{\"colorbar\":{\"outlinewidth\":0,\"ticks\":\"\"},\"type\":\"contourcarpet\"}],\"heatmap\":[{\"colorbar\":{\"outlinewidth\":0,\"ticks\":\"\"},\"colorscale\":[[0.0,\"#0d0887\"],[0.1111111111111111,\"#46039f\"],[0.2222222222222222,\"#7201a8\"],[0.3333333333333333,\"#9c179e\"],[0.4444444444444444,\"#bd3786\"],[0.5555555555555556,\"#d8576b\"],[0.6666666666666666,\"#ed7953\"],[0.7777777777777778,\"#fb9f3a\"],[0.8888888888888888,\"#fdca26\"],[1.0,\"#f0f921\"]],\"type\":\"heatmap\"}],\"heatmapgl\":[{\"colorbar\":{\"outlinewidth\":0,\"ticks\":\"\"},\"colorscale\":[[0.0,\"#0d0887\"],[0.1111111111111111,\"#46039f\"],[0.2222222222222222,\"#7201a8\"],[0.3333333333333333,\"#9c179e\"],[0.4444444444444444,\"#bd3786\"],[0.5555555555555556,\"#d8576b\"],[0.6666666666666666,\"#ed7953\"],[0.7777777777777778,\"#fb9f3a\"],[0.8888888888888888,\"#fdca26\"],[1.0,\"#f0f921\"]],\"type\":\"heatmapgl\"}],\"histogram\":[{\"marker\":{\"pattern\":{\"fillmode\":\"overlay\",\"size\":10,\"solidity\":0.2}},\"type\":\"histogram\"}],\"histogram2d\":[{\"colorbar\":{\"outlinewidth\":0,\"ticks\":\"\"},\"colorscale\":[[0.0,\"#0d0887\"],[0.1111111111111111,\"#46039f\"],[0.2222222222222222,\"#7201a8\"],[0.3333333333333333,\"#9c179e\"],[0.4444444444444444,\"#bd3786\"],[0.5555555555555556,\"#d8576b\"],[0.6666666666666666,\"#ed7953\"],[0.7777777777777778,\"#fb9f3a\"],[0.8888888888888888,\"#fdca26\"],[1.0,\"#f0f921\"]],\"type\":\"histogram2d\"}],\"histogram2dcontour\":[{\"colorbar\":{\"outlinewidth\":0,\"ticks\":\"\"},\"colorscale\":[[0.0,\"#0d0887\"],[0.1111111111111111,\"#46039f\"],[0.2222222222222222,\"#7201a8\"],[0.3333333333333333,\"#9c179e\"],[0.4444444444444444,\"#bd3786\"],[0.5555555555555556,\"#d8576b\"],[0.6666666666666666,\"#ed7953\"],[0.7777777777777778,\"#fb9f3a\"],[0.8888888888888888,\"#fdca26\"],[1.0,\"#f0f921\"]],\"type\":\"histogram2dcontour\"}],\"mesh3d\":[{\"colorbar\":{\"outlinewidth\":0,\"ticks\":\"\"},\"type\":\"mesh3d\"}],\"parcoords\":[{\"line\":{\"colorbar\":{\"outlinewidth\":0,\"ticks\":\"\"}},\"type\":\"parcoords\"}],\"pie\":[{\"automargin\":true,\"type\":\"pie\"}],\"scatter\":[{\"marker\":{\"colorbar\":{\"outlinewidth\":0,\"ticks\":\"\"}},\"type\":\"scatter\"}],\"scatter3d\":[{\"line\":{\"colorbar\":{\"outlinewidth\":0,\"ticks\":\"\"}},\"marker\":{\"colorbar\":{\"outlinewidth\":0,\"ticks\":\"\"}},\"type\":\"scatter3d\"}],\"scattercarpet\":[{\"marker\":{\"colorbar\":{\"outlinewidth\":0,\"ticks\":\"\"}},\"type\":\"scattercarpet\"}],\"scattergeo\":[{\"marker\":{\"colorbar\":{\"outlinewidth\":0,\"ticks\":\"\"}},\"type\":\"scattergeo\"}],\"scattergl\":[{\"marker\":{\"colorbar\":{\"outlinewidth\":0,\"ticks\":\"\"}},\"type\":\"scattergl\"}],\"scattermapbox\":[{\"marker\":{\"colorbar\":{\"outlinewidth\":0,\"ticks\":\"\"}},\"type\":\"scattermapbox\"}],\"scatterpolar\":[{\"marker\":{\"colorbar\":{\"outlinewidth\":0,\"ticks\":\"\"}},\"type\":\"scatterpolar\"}],\"scatterpolargl\":[{\"marker\":{\"colorbar\":{\"outlinewidth\":0,\"ticks\":\"\"}},\"type\":\"scatterpolargl\"}],\"scatterternary\":[{\"marker\":{\"colorbar\":{\"outlinewidth\":0,\"ticks\":\"\"}},\"type\":\"scatterternary\"}],\"surface\":[{\"colorbar\":{\"outlinewidth\":0,\"ticks\":\"\"},\"colorscale\":[[0.0,\"#0d0887\"],[0.1111111111111111,\"#46039f\"],[0.2222222222222222,\"#7201a8\"],[0.3333333333333333,\"#9c179e\"],[0.4444444444444444,\"#bd3786\"],[0.5555555555555556,\"#d8576b\"],[0.6666666666666666,\"#ed7953\"],[0.7777777777777778,\"#fb9f3a\"],[0.8888888888888888,\"#fdca26\"],[1.0,\"#f0f921\"]],\"type\":\"surface\"}],\"table\":[{\"cells\":{\"fill\":{\"color\":\"#EBF0F8\"},\"line\":{\"color\":\"white\"}},\"header\":{\"fill\":{\"color\":\"#C8D4E3\"},\"line\":{\"color\":\"white\"}},\"type\":\"table\"}]},\"layout\":{\"annotationdefaults\":{\"arrowcolor\":\"#2a3f5f\",\"arrowhead\":0,\"arrowwidth\":1},\"autotypenumbers\":\"strict\",\"coloraxis\":{\"colorbar\":{\"outlinewidth\":0,\"ticks\":\"\"}},\"colorscale\":{\"diverging\":[[0,\"#8e0152\"],[0.1,\"#c51b7d\"],[0.2,\"#de77ae\"],[0.3,\"#f1b6da\"],[0.4,\"#fde0ef\"],[0.5,\"#f7f7f7\"],[0.6,\"#e6f5d0\"],[0.7,\"#b8e186\"],[0.8,\"#7fbc41\"],[0.9,\"#4d9221\"],[1,\"#276419\"]],\"sequential\":[[0.0,\"#0d0887\"],[0.1111111111111111,\"#46039f\"],[0.2222222222222222,\"#7201a8\"],[0.3333333333333333,\"#9c179e\"],[0.4444444444444444,\"#bd3786\"],[0.5555555555555556,\"#d8576b\"],[0.6666666666666666,\"#ed7953\"],[0.7777777777777778,\"#fb9f3a\"],[0.8888888888888888,\"#fdca26\"],[1.0,\"#f0f921\"]],\"sequentialminus\":[[0.0,\"#0d0887\"],[0.1111111111111111,\"#46039f\"],[0.2222222222222222,\"#7201a8\"],[0.3333333333333333,\"#9c179e\"],[0.4444444444444444,\"#bd3786\"],[0.5555555555555556,\"#d8576b\"],[0.6666666666666666,\"#ed7953\"],[0.7777777777777778,\"#fb9f3a\"],[0.8888888888888888,\"#fdca26\"],[1.0,\"#f0f921\"]]},\"colorway\":[\"#636efa\",\"#EF553B\",\"#00cc96\",\"#ab63fa\",\"#FFA15A\",\"#19d3f3\",\"#FF6692\",\"#B6E880\",\"#FF97FF\",\"#FECB52\"],\"font\":{\"color\":\"#2a3f5f\"},\"geo\":{\"bgcolor\":\"white\",\"lakecolor\":\"white\",\"landcolor\":\"#E5ECF6\",\"showlakes\":true,\"showland\":true,\"subunitcolor\":\"white\"},\"hoverlabel\":{\"align\":\"left\"},\"hovermode\":\"closest\",\"mapbox\":{\"style\":\"light\"},\"paper_bgcolor\":\"white\",\"plot_bgcolor\":\"#E5ECF6\",\"polar\":{\"angularaxis\":{\"gridcolor\":\"white\",\"linecolor\":\"white\",\"ticks\":\"\"},\"bgcolor\":\"#E5ECF6\",\"radialaxis\":{\"gridcolor\":\"white\",\"linecolor\":\"white\",\"ticks\":\"\"}},\"scene\":{\"xaxis\":{\"backgroundcolor\":\"#E5ECF6\",\"gridcolor\":\"white\",\"gridwidth\":2,\"linecolor\":\"white\",\"showbackground\":true,\"ticks\":\"\",\"zerolinecolor\":\"white\"},\"yaxis\":{\"backgroundcolor\":\"#E5ECF6\",\"gridcolor\":\"white\",\"gridwidth\":2,\"linecolor\":\"white\",\"showbackground\":true,\"ticks\":\"\",\"zerolinecolor\":\"white\"},\"zaxis\":{\"backgroundcolor\":\"#E5ECF6\",\"gridcolor\":\"white\",\"gridwidth\":2,\"linecolor\":\"white\",\"showbackground\":true,\"ticks\":\"\",\"zerolinecolor\":\"white\"}},\"shapedefaults\":{\"line\":{\"color\":\"#2a3f5f\"}},\"ternary\":{\"aaxis\":{\"gridcolor\":\"white\",\"linecolor\":\"white\",\"ticks\":\"\"},\"baxis\":{\"gridcolor\":\"white\",\"linecolor\":\"white\",\"ticks\":\"\"},\"bgcolor\":\"#E5ECF6\",\"caxis\":{\"gridcolor\":\"white\",\"linecolor\":\"white\",\"ticks\":\"\"}},\"title\":{\"x\":0.05},\"xaxis\":{\"automargin\":true,\"gridcolor\":\"white\",\"linecolor\":\"white\",\"ticks\":\"\",\"title\":{\"standoff\":15},\"zerolinecolor\":\"white\",\"zerolinewidth\":2},\"yaxis\":{\"automargin\":true,\"gridcolor\":\"white\",\"linecolor\":\"white\",\"ticks\":\"\",\"title\":{\"standoff\":15},\"zerolinecolor\":\"white\",\"zerolinewidth\":2}}},\"geo\":{\"domain\":{\"x\":[0.0,1.0],\"y\":[0.0,1.0]},\"center\":{},\"scope\":\"europe\"},\"legend\":{\"title\":{\"text\":\"CANTON NAME\"},\"tracegroupgap\":0},\"margin\":{\"t\":60}},                        {\"responsive\": true}                    ).then(function(){\n",
       "                            \n",
       "var gd = document.getElementById('8fd54242-3db3-4ef8-b0c0-555b22e4be93');\n",
       "var x = new MutationObserver(function (mutations, observer) {{\n",
       "        var display = window.getComputedStyle(gd).display;\n",
       "        if (!display || display === 'none') {{\n",
       "            console.log([gd, 'removed!']);\n",
       "            Plotly.purge(gd);\n",
       "            observer.disconnect();\n",
       "        }}\n",
       "}});\n",
       "\n",
       "// Listen for the removal of the full notebook cells\n",
       "var notebookContainer = gd.closest('#notebook-container');\n",
       "if (notebookContainer) {{\n",
       "    x.observe(notebookContainer, {childList: true});\n",
       "}}\n",
       "\n",
       "// Listen for the clearing of the current output cell\n",
       "var outputEl = gd.closest('.output');\n",
       "if (outputEl) {{\n",
       "    x.observe(outputEl, {childList: true});\n",
       "}}\n",
       "\n",
       "                        })                };                });            </script>        </div>"
      ]
     },
     "metadata": {},
     "output_type": "display_data"
    }
   ],
   "source": [
    "fig=px.scatter_geo(service_points, lat=\"latitude\",lon='longitude',color=\"CANTON NAME\",\n",
    "                     hover_name=\"Stop name\",scope='europe')\n",
    "\n",
    "fig.show()"
   ]
  },
  {
   "cell_type": "code",
   "execution_count": 81,
   "id": "243d572a",
   "metadata": {},
   "outputs": [
    {
     "data": {
      "image/png": "[encoded data removed]",
      "text/plain": [
       "<Figure size 864x720 with 1 Axes>"
      ]
     },
     "metadata": {
      "needs_background": "light"
     },
     "output_type": "display_data"
    }
   ],
   "source": [
    "fig, ax = plt.subplots(figsize=(12, 10))\n",
    "swiss_boundary.plot(ax=ax, color='teal')\n",
    "geo_service_points.plot(ax=ax, markersize=3.5, color='orange')\n",
    "ax.axis('off')\n",
    "plt.axis('equal')\n",
    "plt.show()"
   ]
  },
  {
   "cell_type": "markdown",
   "id": "4079578c",
   "metadata": {},
   "source": [
    "## We concatenate all kantons into one single boundary"
   ]
  },
  {
   "cell_type": "code",
   "execution_count": 82,
   "id": "683f0f43",
   "metadata": {},
   "outputs": [],
   "source": [
    "entire_swiss_shape=cascaded_union(swiss_boundary.geometry)\n",
    "voronoi_centers = points_to_coords(geo_service_points.geometry)"
   ]
  },
  {
   "cell_type": "markdown",
   "id": "6b6300de",
   "metadata": {},
   "source": [
    "### Now we compute the Voronoi Regions "
   ]
  },
  {
   "cell_type": "code",
   "execution_count": 83,
   "id": "d0dfe2c4",
   "metadata": {},
   "outputs": [],
   "source": [
    "# Calculate Voronoi Regions\n",
    "poly_shapes, poly_to_pt_assignments = voronoi_regions_from_coords(voronoi_centers, entire_swiss_shape)"
   ]
  },
  {
   "cell_type": "code",
   "execution_count": 84,
   "id": "da1d19c4",
   "metadata": {},
   "outputs": [
    {
     "data": {
      "image/png": "[encoded data removed]",
      "text/plain": [
       "<Figure size 432x288 with 1 Axes>"
      ]
     },
     "metadata": {
      "needs_background": "light"
     },
     "output_type": "display_data"
    }
   ],
   "source": [
    "#now we plot them \n",
    "fig, ax = subplot_for_map()\n",
    "plot_voronoi_polys_with_points_in_area(ax, entire_swiss_shape, poly_shapes,voronoi_centers, poly_to_pt_assignments)\n",
    "ax.set_title('Voronoi regions of Schools in Uppsala')\n",
    "plt.tight_layout()\n",
    "plt.show()"
   ]
  },
  {
   "cell_type": "code",
   "execution_count": 43,
   "id": "2f42a7eb",
   "metadata": {},
   "outputs": [
    {
     "data": {
      "text/plain": [
       "0                 Graubünden\n",
       "1                       Bern\n",
       "2                     Valais\n",
       "3                       Vaud\n",
       "4                     Ticino\n",
       "5                 St. Gallen\n",
       "6                     Zürich\n",
       "7                   Fribourg\n",
       "8                     Luzern\n",
       "9                     Aargau\n",
       "10                       Uri\n",
       "11                   Thurgau\n",
       "12                    Schwyz\n",
       "13                      Jura\n",
       "14                 Neuchâtel\n",
       "15                 Solothurn\n",
       "16                    Glarus\n",
       "17          Basel-Landschaft\n",
       "18                  Obwalden\n",
       "19                 Nidwalden\n",
       "20                    Genève\n",
       "21              Schaffhausen\n",
       "22    Appenzell Ausserrhoden\n",
       "23                       Zug\n",
       "24     Appenzell Innerrhoden\n",
       "25                  Fribourg\n",
       "26                      Vaud\n",
       "27                  Obwalden\n",
       "28               Basel-Stadt\n",
       "29              Schaffhausen\n",
       "30                 Solothurn\n",
       "31                  Fribourg\n",
       "32                 Solothurn\n",
       "33              Schaffhausen\n",
       "34     Appenzell Innerrhoden\n",
       "35                    Genève\n",
       "36          Basel-Landschaft\n",
       "37                  Fribourg\n",
       "38                      Bern\n",
       "39     Appenzell Innerrhoden\n",
       "40                   Thurgau\n",
       "41                      Bern\n",
       "42                 Solothurn\n",
       "43                  Fribourg\n",
       "44                      Bern\n",
       "45                    Genève\n",
       "46                St. Gallen\n",
       "47                    Aargau\n",
       "48                  Fribourg\n",
       "49     Appenzell Innerrhoden\n",
       "50     Appenzell Innerrhoden\n",
       "Name: NAME, dtype: object"
      ]
     },
     "execution_count": 43,
     "metadata": {},
     "output_type": "execute_result"
    }
   ],
   "source": [
    "swiss_boundary['NAME']"
   ]
  },
  {
   "cell_type": "code",
   "execution_count": 64,
   "id": "de839312",
   "metadata": {},
   "outputs": [
    {
     "data": {
      "text/html": [
       "<div>\n",
       "<style scoped>\n",
       "    .dataframe tbody tr th:only-of-type {\n",
       "        vertical-align: middle;\n",
       "    }\n",
       "\n",
       "    .dataframe tbody tr th {\n",
       "        vertical-align: top;\n",
       "    }\n",
       "\n",
       "    .dataframe thead th {\n",
       "        text-align: right;\n",
       "    }\n",
       "</style>\n",
       "<table border=\"1\" class=\"dataframe\">\n",
       "  <thead>\n",
       "    <tr style=\"text-align: right;\">\n",
       "      <th></th>\n",
       "      <th>Content-Type: text/plain; charset=utf-8\\n</th>\n",
       "      <th>OPUIC</th>\n",
       "      <th>Stop name</th>\n",
       "      <th>Station abbreviation</th>\n",
       "      <th>LOCALITYNAME</th>\n",
       "      <th>MUNICIPALITY NAME</th>\n",
       "      <th>BFS Nummer Gemeinde</th>\n",
       "      <th>DISTRICT NAME</th>\n",
       "      <th>BFS Nummer Bezirk</th>\n",
       "      <th>CANTON NAME</th>\n",
       "      <th>...</th>\n",
       "      <th>Verkehrsmitteltext</th>\n",
       "      <th>BO_IDENTIFICATION</th>\n",
       "      <th>tc-number</th>\n",
       "      <th>BO_ABBREVIATION_DE</th>\n",
       "      <th>BO_DESIGNATION_DE</th>\n",
       "      <th>lod</th>\n",
       "      <th>Geopos</th>\n",
       "      <th>IS_STOP</th>\n",
       "      <th>IS_BEDIENPUNKT</th>\n",
       "      <th>IS_VERKEHRSPUNKT</th>\n",
       "    </tr>\n",
       "  </thead>\n",
       "  <tbody>\n",
       "    <tr>\n",
       "      <th>0</th>\n",
       "      <td>90868</td>\n",
       "      <td>8590868</td>\n",
       "      <td>Wädenswil, Schlossbergstrasse</td>\n",
       "      <td>NaN</td>\n",
       "      <td>Wädenswil</td>\n",
       "      <td>Wädenswil</td>\n",
       "      <td>293.0</td>\n",
       "      <td>Horgen</td>\n",
       "      <td>106.0</td>\n",
       "      <td>Zürich</td>\n",
       "      <td>...</td>\n",
       "      <td>Bus</td>\n",
       "      <td>100606</td>\n",
       "      <td>807</td>\n",
       "      <td>SZU Auto</td>\n",
       "      <td>Automobildienst SZU</td>\n",
       "      <td>http://lod.opentransportdata.swiss/didok/8590868</td>\n",
       "      <td>47.225246649,8.6749927814</td>\n",
       "      <td>1</td>\n",
       "      <td>0</td>\n",
       "      <td>1</td>\n",
       "    </tr>\n",
       "    <tr>\n",
       "      <th>1</th>\n",
       "      <td>90876</td>\n",
       "      <td>8590876</td>\n",
       "      <td>Wädenswil, Waisenhausstrasse</td>\n",
       "      <td>NaN</td>\n",
       "      <td>Wädenswil</td>\n",
       "      <td>Wädenswil</td>\n",
       "      <td>293.0</td>\n",
       "      <td>Horgen</td>\n",
       "      <td>106.0</td>\n",
       "      <td>Zürich</td>\n",
       "      <td>...</td>\n",
       "      <td>Bus</td>\n",
       "      <td>100606</td>\n",
       "      <td>807</td>\n",
       "      <td>SZU Auto</td>\n",
       "      <td>Automobildienst SZU</td>\n",
       "      <td>http://lod.opentransportdata.swiss/didok/8590876</td>\n",
       "      <td>47.2196987085,8.67392699045</td>\n",
       "      <td>1</td>\n",
       "      <td>0</td>\n",
       "      <td>1</td>\n",
       "    </tr>\n",
       "    <tr>\n",
       "      <th>2</th>\n",
       "      <td>94776</td>\n",
       "      <td>8594776</td>\n",
       "      <td>Bad Ragaz, Casino</td>\n",
       "      <td>NaN</td>\n",
       "      <td>Bad Ragaz</td>\n",
       "      <td>Bad Ragaz</td>\n",
       "      <td>3291.0</td>\n",
       "      <td>Sarganserland</td>\n",
       "      <td>1725.0</td>\n",
       "      <td>St. Gallen</td>\n",
       "      <td>...</td>\n",
       "      <td>Bus</td>\n",
       "      <td>100568</td>\n",
       "      <td>766</td>\n",
       "      <td>BuS/cb</td>\n",
       "      <td>Bus und Service AG (Chur)</td>\n",
       "      <td>http://lod.opentransportdata.swiss/didok/8594776</td>\n",
       "      <td>47.0007881357,9.50615078317</td>\n",
       "      <td>1</td>\n",
       "      <td>0</td>\n",
       "      <td>1</td>\n",
       "    </tr>\n",
       "    <tr>\n",
       "      <th>3</th>\n",
       "      <td>82473</td>\n",
       "      <td>8582473</td>\n",
       "      <td>Bad Ragaz, Fluppi</td>\n",
       "      <td>NaN</td>\n",
       "      <td>Bad Ragaz</td>\n",
       "      <td>Bad Ragaz</td>\n",
       "      <td>3291.0</td>\n",
       "      <td>Sarganserland</td>\n",
       "      <td>1725.0</td>\n",
       "      <td>St. Gallen</td>\n",
       "      <td>...</td>\n",
       "      <td>Bus</td>\n",
       "      <td>100602</td>\n",
       "      <td>801</td>\n",
       "      <td>PAG</td>\n",
       "      <td>PostAuto AG</td>\n",
       "      <td>http://lod.opentransportdata.swiss/didok/8582473</td>\n",
       "      <td>46.9950093694,9.51769869681</td>\n",
       "      <td>1</td>\n",
       "      <td>0</td>\n",
       "      <td>1</td>\n",
       "    </tr>\n",
       "    <tr>\n",
       "      <th>4</th>\n",
       "      <td>1542</td>\n",
       "      <td>1201542</td>\n",
       "      <td>Lustenau, Volksschule Rotkreuz</td>\n",
       "      <td>NaN</td>\n",
       "      <td>NaN</td>\n",
       "      <td>NaN</td>\n",
       "      <td>NaN</td>\n",
       "      <td>NaN</td>\n",
       "      <td>NaN</td>\n",
       "      <td>NaN</td>\n",
       "      <td>...</td>\n",
       "      <td>Bus</td>\n",
       "      <td>101758</td>\n",
       "      <td>478</td>\n",
       "      <td>VVV</td>\n",
       "      <td>Verkehrsverbund Vorarlberg GmbH</td>\n",
       "      <td>http://lod.opentransportdata.swiss/didok/1201542</td>\n",
       "      <td>47.4395059946,9.66266500094</td>\n",
       "      <td>1</td>\n",
       "      <td>0</td>\n",
       "      <td>1</td>\n",
       "    </tr>\n",
       "    <tr>\n",
       "      <th>...</th>\n",
       "      <td>...</td>\n",
       "      <td>...</td>\n",
       "      <td>...</td>\n",
       "      <td>...</td>\n",
       "      <td>...</td>\n",
       "      <td>...</td>\n",
       "      <td>...</td>\n",
       "      <td>...</td>\n",
       "      <td>...</td>\n",
       "      <td>...</td>\n",
       "      <td>...</td>\n",
       "      <td>...</td>\n",
       "      <td>...</td>\n",
       "      <td>...</td>\n",
       "      <td>...</td>\n",
       "      <td>...</td>\n",
       "      <td>...</td>\n",
       "      <td>...</td>\n",
       "      <td>...</td>\n",
       "      <td>...</td>\n",
       "      <td>...</td>\n",
       "    </tr>\n",
       "    <tr>\n",
       "      <th>46736</th>\n",
       "      <td>89056</td>\n",
       "      <td>8589056</td>\n",
       "      <td>Burgdorf, Lerchenbühlweg</td>\n",
       "      <td>BDLB</td>\n",
       "      <td>Burgdorf</td>\n",
       "      <td>Burgdorf</td>\n",
       "      <td>404.0</td>\n",
       "      <td>Emmental</td>\n",
       "      <td>245.0</td>\n",
       "      <td>Bern</td>\n",
       "      <td>...</td>\n",
       "      <td>Bus</td>\n",
       "      <td>100670</td>\n",
       "      <td>871</td>\n",
       "      <td>BLAG</td>\n",
       "      <td>Busland AG</td>\n",
       "      <td>http://lod.opentransportdata.swiss/didok/8589056</td>\n",
       "      <td>47.0593966348,7.61285182078</td>\n",
       "      <td>1</td>\n",
       "      <td>0</td>\n",
       "      <td>1</td>\n",
       "    </tr>\n",
       "    <tr>\n",
       "      <th>46737</th>\n",
       "      <td>7251</td>\n",
       "      <td>8507251</td>\n",
       "      <td>Gümligen, Seidenberg</td>\n",
       "      <td>SEID</td>\n",
       "      <td>Gümligen</td>\n",
       "      <td>Muri bei Bern</td>\n",
       "      <td>356.0</td>\n",
       "      <td>Bern-Mittelland</td>\n",
       "      <td>246.0</td>\n",
       "      <td>Bern</td>\n",
       "      <td>...</td>\n",
       "      <td>Tram</td>\n",
       "      <td>100066</td>\n",
       "      <td>88</td>\n",
       "      <td>RBS</td>\n",
       "      <td>Regionalverkehr Bern-Solothurn</td>\n",
       "      <td>http://lod.opentransportdata.swiss/didok/8507251</td>\n",
       "      <td>46.9330199983,7.49253000485</td>\n",
       "      <td>1</td>\n",
       "      <td>0</td>\n",
       "      <td>1</td>\n",
       "    </tr>\n",
       "    <tr>\n",
       "      <th>46738</th>\n",
       "      <td>7052</td>\n",
       "      <td>8507052</td>\n",
       "      <td>Gümligen, Melchenbühl (Tram)</td>\n",
       "      <td>MELB</td>\n",
       "      <td>Gümligen</td>\n",
       "      <td>Muri bei Bern</td>\n",
       "      <td>356.0</td>\n",
       "      <td>Bern-Mittelland</td>\n",
       "      <td>246.0</td>\n",
       "      <td>Bern</td>\n",
       "      <td>...</td>\n",
       "      <td>Tram</td>\n",
       "      <td>100066</td>\n",
       "      <td>88</td>\n",
       "      <td>RBS</td>\n",
       "      <td>Regionalverkehr Bern-Solothurn</td>\n",
       "      <td>http://lod.opentransportdata.swiss/didok/8507052</td>\n",
       "      <td>46.934919997,7.49801000231</td>\n",
       "      <td>1</td>\n",
       "      <td>0</td>\n",
       "      <td>1</td>\n",
       "    </tr>\n",
       "    <tr>\n",
       "      <th>46739</th>\n",
       "      <td>77016</td>\n",
       "      <td>8577016</td>\n",
       "      <td>Gümligen, Sonnenfeld</td>\n",
       "      <td>NaN</td>\n",
       "      <td>Gümligen</td>\n",
       "      <td>Muri bei Bern</td>\n",
       "      <td>356.0</td>\n",
       "      <td>Bern-Mittelland</td>\n",
       "      <td>246.0</td>\n",
       "      <td>Bern</td>\n",
       "      <td>...</td>\n",
       "      <td>Bus</td>\n",
       "      <td>100649</td>\n",
       "      <td>850</td>\n",
       "      <td>RBS Auto</td>\n",
       "      <td>Autobusbetrieb RBS</td>\n",
       "      <td>http://lod.opentransportdata.swiss/didok/8577016</td>\n",
       "      <td>46.927817609,7.50989168821</td>\n",
       "      <td>1</td>\n",
       "      <td>0</td>\n",
       "      <td>1</td>\n",
       "    </tr>\n",
       "    <tr>\n",
       "      <th>46740</th>\n",
       "      <td>95603</td>\n",
       "      <td>8595603</td>\n",
       "      <td>Gümligen, Moosstrasse</td>\n",
       "      <td>NaN</td>\n",
       "      <td>Gümligen</td>\n",
       "      <td>Muri bei Bern</td>\n",
       "      <td>356.0</td>\n",
       "      <td>Bern-Mittelland</td>\n",
       "      <td>246.0</td>\n",
       "      <td>Bern</td>\n",
       "      <td>...</td>\n",
       "      <td>Bus</td>\n",
       "      <td>100649</td>\n",
       "      <td>850</td>\n",
       "      <td>RBS Auto</td>\n",
       "      <td>Autobusbetrieb RBS</td>\n",
       "      <td>http://lod.opentransportdata.swiss/didok/8595603</td>\n",
       "      <td>46.9279026804,7.50284074465</td>\n",
       "      <td>1</td>\n",
       "      <td>0</td>\n",
       "      <td>1</td>\n",
       "    </tr>\n",
       "  </tbody>\n",
       "</table>\n",
       "<p>46741 rows × 37 columns</p>\n",
       "</div>"
      ],
      "text/plain": [
       "       Content-Type: text/plain; charset=utf-8\\n    OPUIC  \\\n",
       "0                                          90868  8590868   \n",
       "1                                          90876  8590876   \n",
       "2                                          94776  8594776   \n",
       "3                                          82473  8582473   \n",
       "4                                           1542  1201542   \n",
       "...                                          ...      ...   \n",
       "46736                                      89056  8589056   \n",
       "46737                                       7251  8507251   \n",
       "46738                                       7052  8507052   \n",
       "46739                                      77016  8577016   \n",
       "46740                                      95603  8595603   \n",
       "\n",
       "                            Stop name Station abbreviation LOCALITYNAME  \\\n",
       "0       Wädenswil, Schlossbergstrasse                  NaN    Wädenswil   \n",
       "1        Wädenswil, Waisenhausstrasse                  NaN    Wädenswil   \n",
       "2                   Bad Ragaz, Casino                  NaN    Bad Ragaz   \n",
       "3                   Bad Ragaz, Fluppi                  NaN    Bad Ragaz   \n",
       "4      Lustenau, Volksschule Rotkreuz                  NaN          NaN   \n",
       "...                               ...                  ...          ...   \n",
       "46736        Burgdorf, Lerchenbühlweg                 BDLB     Burgdorf   \n",
       "46737            Gümligen, Seidenberg                 SEID     Gümligen   \n",
       "46738    Gümligen, Melchenbühl (Tram)                 MELB     Gümligen   \n",
       "46739            Gümligen, Sonnenfeld                  NaN     Gümligen   \n",
       "46740           Gümligen, Moosstrasse                  NaN     Gümligen   \n",
       "\n",
       "      MUNICIPALITY NAME  BFS Nummer Gemeinde    DISTRICT NAME  \\\n",
       "0             Wädenswil                293.0           Horgen   \n",
       "1             Wädenswil                293.0           Horgen   \n",
       "2             Bad Ragaz               3291.0    Sarganserland   \n",
       "3             Bad Ragaz               3291.0    Sarganserland   \n",
       "4                   NaN                  NaN              NaN   \n",
       "...                 ...                  ...              ...   \n",
       "46736          Burgdorf                404.0         Emmental   \n",
       "46737     Muri bei Bern                356.0  Bern-Mittelland   \n",
       "46738     Muri bei Bern                356.0  Bern-Mittelland   \n",
       "46739     Muri bei Bern                356.0  Bern-Mittelland   \n",
       "46740     Muri bei Bern                356.0  Bern-Mittelland   \n",
       "\n",
       "       BFS Nummer Bezirk CANTON NAME  ... Verkehrsmitteltext  \\\n",
       "0                  106.0      Zürich  ...                Bus   \n",
       "1                  106.0      Zürich  ...                Bus   \n",
       "2                 1725.0  St. Gallen  ...                Bus   \n",
       "3                 1725.0  St. Gallen  ...                Bus   \n",
       "4                    NaN         NaN  ...                Bus   \n",
       "...                  ...         ...  ...                ...   \n",
       "46736              245.0        Bern  ...                Bus   \n",
       "46737              246.0        Bern  ...               Tram   \n",
       "46738              246.0        Bern  ...               Tram   \n",
       "46739              246.0        Bern  ...                Bus   \n",
       "46740              246.0        Bern  ...                Bus   \n",
       "\n",
       "       BO_IDENTIFICATION tc-number BO_ABBREVIATION_DE  \\\n",
       "0                 100606       807           SZU Auto   \n",
       "1                 100606       807           SZU Auto   \n",
       "2                 100568       766             BuS/cb   \n",
       "3                 100602       801                PAG   \n",
       "4                 101758       478                VVV   \n",
       "...                  ...       ...                ...   \n",
       "46736             100670       871               BLAG   \n",
       "46737             100066        88                RBS   \n",
       "46738             100066        88                RBS   \n",
       "46739             100649       850           RBS Auto   \n",
       "46740             100649       850           RBS Auto   \n",
       "\n",
       "                     BO_DESIGNATION_DE  \\\n",
       "0                  Automobildienst SZU   \n",
       "1                  Automobildienst SZU   \n",
       "2            Bus und Service AG (Chur)   \n",
       "3                          PostAuto AG   \n",
       "4      Verkehrsverbund Vorarlberg GmbH   \n",
       "...                                ...   \n",
       "46736                       Busland AG   \n",
       "46737   Regionalverkehr Bern-Solothurn   \n",
       "46738   Regionalverkehr Bern-Solothurn   \n",
       "46739               Autobusbetrieb RBS   \n",
       "46740               Autobusbetrieb RBS   \n",
       "\n",
       "                                                    lod  \\\n",
       "0      http://lod.opentransportdata.swiss/didok/8590868   \n",
       "1      http://lod.opentransportdata.swiss/didok/8590876   \n",
       "2      http://lod.opentransportdata.swiss/didok/8594776   \n",
       "3      http://lod.opentransportdata.swiss/didok/8582473   \n",
       "4      http://lod.opentransportdata.swiss/didok/1201542   \n",
       "...                                                 ...   \n",
       "46736  http://lod.opentransportdata.swiss/didok/8589056   \n",
       "46737  http://lod.opentransportdata.swiss/didok/8507251   \n",
       "46738  http://lod.opentransportdata.swiss/didok/8507052   \n",
       "46739  http://lod.opentransportdata.swiss/didok/8577016   \n",
       "46740  http://lod.opentransportdata.swiss/didok/8595603   \n",
       "\n",
       "                            Geopos IS_STOP  IS_BEDIENPUNKT  IS_VERKEHRSPUNKT  \n",
       "0        47.225246649,8.6749927814       1               0                 1  \n",
       "1      47.2196987085,8.67392699045       1               0                 1  \n",
       "2      47.0007881357,9.50615078317       1               0                 1  \n",
       "3      46.9950093694,9.51769869681       1               0                 1  \n",
       "4      47.4395059946,9.66266500094       1               0                 1  \n",
       "...                            ...     ...             ...               ...  \n",
       "46736  47.0593966348,7.61285182078       1               0                 1  \n",
       "46737  46.9330199983,7.49253000485       1               0                 1  \n",
       "46738   46.934919997,7.49801000231       1               0                 1  \n",
       "46739   46.927817609,7.50989168821       1               0                 1  \n",
       "46740  46.9279026804,7.50284074465       1               0                 1  \n",
       "\n",
       "[46741 rows x 37 columns]"
      ]
     },
     "execution_count": 64,
     "metadata": {},
     "output_type": "execute_result"
    }
   ],
   "source": [
    "stations"
   ]
  },
  {
   "cell_type": "code",
   "execution_count": 75,
   "id": "146c2be7",
   "metadata": {},
   "outputs": [
    {
     "data": {
      "text/html": [
       "<div>\n",
       "<style scoped>\n",
       "    .dataframe tbody tr th:only-of-type {\n",
       "        vertical-align: middle;\n",
       "    }\n",
       "\n",
       "    .dataframe tbody tr th {\n",
       "        vertical-align: top;\n",
       "    }\n",
       "\n",
       "    .dataframe thead th {\n",
       "        text-align: right;\n",
       "    }\n",
       "</style>\n",
       "<table border=\"1\" class=\"dataframe\">\n",
       "  <thead>\n",
       "    <tr style=\"text-align: right;\">\n",
       "      <th></th>\n",
       "      <th>Content-Type: text/plain; charset=utf-8\\n</th>\n",
       "      <th>OPUIC</th>\n",
       "      <th>Stop name</th>\n",
       "      <th>Station abbreviation</th>\n",
       "      <th>LOCALITYNAME</th>\n",
       "      <th>MUNICIPALITY NAME</th>\n",
       "      <th>BFS Nummer Gemeinde</th>\n",
       "      <th>DISTRICT NAME</th>\n",
       "      <th>BFS Nummer Bezirk</th>\n",
       "      <th>CANTON NAME</th>\n",
       "      <th>...</th>\n",
       "      <th>tc-number</th>\n",
       "      <th>BO_ABBREVIATION_DE</th>\n",
       "      <th>BO_DESIGNATION_DE</th>\n",
       "      <th>lod</th>\n",
       "      <th>Geopos</th>\n",
       "      <th>IS_BEDIENPUNKT</th>\n",
       "      <th>IS_VERKEHRSPUNKT</th>\n",
       "      <th>latitude</th>\n",
       "      <th>longitude</th>\n",
       "      <th>geometry</th>\n",
       "    </tr>\n",
       "    <tr>\n",
       "      <th>IS_STOP</th>\n",
       "      <th></th>\n",
       "      <th></th>\n",
       "      <th></th>\n",
       "      <th></th>\n",
       "      <th></th>\n",
       "      <th></th>\n",
       "      <th></th>\n",
       "      <th></th>\n",
       "      <th></th>\n",
       "      <th></th>\n",
       "      <th></th>\n",
       "      <th></th>\n",
       "      <th></th>\n",
       "      <th></th>\n",
       "      <th></th>\n",
       "      <th></th>\n",
       "      <th></th>\n",
       "      <th></th>\n",
       "      <th></th>\n",
       "      <th></th>\n",
       "      <th></th>\n",
       "    </tr>\n",
       "  </thead>\n",
       "  <tbody>\n",
       "    <tr>\n",
       "      <th>0</th>\n",
       "      <td>237</td>\n",
       "      <td>237</td>\n",
       "      <td>237</td>\n",
       "      <td>236</td>\n",
       "      <td>237</td>\n",
       "      <td>237</td>\n",
       "      <td>237</td>\n",
       "      <td>202</td>\n",
       "      <td>202</td>\n",
       "      <td>237</td>\n",
       "      <td>...</td>\n",
       "      <td>237</td>\n",
       "      <td>237</td>\n",
       "      <td>237</td>\n",
       "      <td>237</td>\n",
       "      <td>237</td>\n",
       "      <td>237</td>\n",
       "      <td>237</td>\n",
       "      <td>237</td>\n",
       "      <td>237</td>\n",
       "      <td>237</td>\n",
       "    </tr>\n",
       "    <tr>\n",
       "      <th>1</th>\n",
       "      <td>830</td>\n",
       "      <td>830</td>\n",
       "      <td>830</td>\n",
       "      <td>829</td>\n",
       "      <td>830</td>\n",
       "      <td>830</td>\n",
       "      <td>830</td>\n",
       "      <td>777</td>\n",
       "      <td>777</td>\n",
       "      <td>830</td>\n",
       "      <td>...</td>\n",
       "      <td>830</td>\n",
       "      <td>830</td>\n",
       "      <td>830</td>\n",
       "      <td>830</td>\n",
       "      <td>830</td>\n",
       "      <td>830</td>\n",
       "      <td>830</td>\n",
       "      <td>830</td>\n",
       "      <td>830</td>\n",
       "      <td>830</td>\n",
       "    </tr>\n",
       "  </tbody>\n",
       "</table>\n",
       "<p>2 rows × 39 columns</p>\n",
       "</div>"
      ],
      "text/plain": [
       "         Content-Type: text/plain; charset=utf-8\\n  OPUIC  Stop name  \\\n",
       "IS_STOP                                                                \n",
       "0                                              237    237        237   \n",
       "1                                              830    830        830   \n",
       "\n",
       "         Station abbreviation  LOCALITYNAME  MUNICIPALITY NAME  \\\n",
       "IS_STOP                                                          \n",
       "0                         236           237                237   \n",
       "1                         829           830                830   \n",
       "\n",
       "         BFS Nummer Gemeinde  DISTRICT NAME  BFS Nummer Bezirk  CANTON NAME  \\\n",
       "IS_STOP                                                                       \n",
       "0                        237            202                202          237   \n",
       "1                        830            777                777          830   \n",
       "\n",
       "         ...  tc-number  BO_ABBREVIATION_DE  BO_DESIGNATION_DE  lod  Geopos  \\\n",
       "IS_STOP  ...                                                                  \n",
       "0        ...        237                 237                237  237     237   \n",
       "1        ...        830                 830                830  830     830   \n",
       "\n",
       "         IS_BEDIENPUNKT  IS_VERKEHRSPUNKT  latitude  longitude  geometry  \n",
       "IS_STOP                                                                   \n",
       "0                   237               237       237        237       237  \n",
       "1                   830               830       830        830       830  \n",
       "\n",
       "[2 rows x 39 columns]"
      ]
     },
     "execution_count": 75,
     "metadata": {},
     "output_type": "execute_result"
    }
   ],
   "source": [
    "service_points.groupby('IS_STOP').count()"
   ]
  },
  {
   "cell_type": "code",
   "execution_count": 196,
   "id": "be6cda6c",
   "metadata": {},
   "outputs": [
    {
     "data": {
      "text/plain": [
       "array(['Aarau', 'Aarberg', 'Affoltern', 'Allaman', 'Altdorf',\n",
       "       'Altenrhein', 'Arch', 'Ardon', 'Arnegg', 'Arosa', 'Arth', 'Au',\n",
       "       'Balerna', 'Balsthal', 'Basel', 'Basel', 'Basel', 'Basel', 'Basel',\n",
       "       'Bellach', 'Bellinzona', 'Bergün', 'Bern', 'Bettwiesen', 'Bex',\n",
       "       'Biasca', 'Biberist', 'Biel', 'Birmensdorf', 'Birsfelden',\n",
       "       'Bischofszell', 'Bière', 'Bière', 'Bodio', 'Brenzikofen',\n",
       "       'Brescia San Zeno', 'Brig', 'Brittnau', 'Bronschhofen', 'Brugg',\n",
       "       'Brunnen', 'Buchli', 'Buchs', 'Buchs', 'Burgdorf', 'Bussigny',\n",
       "       'Bussy', 'Bäretswil', 'Bülach', 'Bürglen', 'Büron', 'Cadenazzo',\n",
       "       'Campocologno', 'Castione', 'Castrisch', 'Chavornay', 'Chiasso',\n",
       "       'Chur', 'Châteauneuf', 'Claro', 'Colombier', 'Corcelles',\n",
       "       'Cornaux', 'Cossonay', 'Cottendart', 'Dagmersellen', 'Daillens',\n",
       "       'Davos', 'Davos', 'Davos', 'Delémont', 'Desio', 'Desio',\n",
       "       'Dietikon', 'Disentis', 'Domdidier', 'Dottikon', 'Däniken',\n",
       "       'Dübendorf', 'Düdingen', 'Ebikon', 'Eclépens', 'Eifeld',\n",
       "       'Emmenbrücke', 'Ems', 'Estavayer', 'Felben', 'Felsberg', 'Flums',\n",
       "       'Frauenfeld', 'Frenkendorf', 'Fribourg', 'Frutigen', 'Full',\n",
       "       'Furna', 'Gampel', 'Genf', 'Genève', 'Gerlafingen', 'Gettnau',\n",
       "       'Gisikon', 'Givisiez', 'Gland', 'Glattbrugg', 'Glovelier',\n",
       "       'Gossau', 'Granges', 'Grenchen', 'Grolley', 'Grünenmatt', 'Grüsch',\n",
       "       'Gurtnellen', 'Gwatt', 'Gümligen', 'Haldenstein', 'Hedingen',\n",
       "       'Heerbrugg', 'Herzogenbuchsee', 'Hinwil', 'Hondrich', 'Horchental',\n",
       "       'Horn', 'Horw', 'Hunzenschwil', 'Hägendorf', 'Härkingen',\n",
       "       'Hüntwangen', 'Ilanz', 'Interlaken', 'Kaiseraugst', 'Kilchberg',\n",
       "       'Killwangen', 'Klosters', 'Kloten', 'Klus', 'Kreuzlingen',\n",
       "       'Küblis', 'La', 'Landquart', 'Langenthal', 'Langenthal',\n",
       "       'Laufenburg', 'Lausanne', 'Lausanne', 'Le', 'Le', 'Lecco',\n",
       "       'Leissigbad', 'Lenzburg', 'Leuzigen', 'Lugano', 'Lupfig',\n",
       "       'Luterbach', 'Luzern', 'Lyss', 'Lüsslingen', 'Malters', 'Marin',\n",
       "       'Maroggia', 'Martigny', 'Massongex', 'Meilen', 'Mels', 'Mendrisio',\n",
       "       'Menznau', 'Monthey', 'Monthey Centre agr Bas', 'Moudon',\n",
       "       'Muttenz', 'Mägenwil', 'Märstetten', 'Möhlin', 'Münchenstein',\n",
       "       'Müntschemier', 'Nebikon', 'Netstal', 'Neuchâtel', 'Nieder',\n",
       "       'Niederbottigen', 'Niederglatt', 'Nyon', 'Oberbipp',\n",
       "       'Oberbuchsiten', 'Oberriet', 'Oberrüti', 'Oberwinterthur',\n",
       "       'Oensingen', 'Olten', 'Olten', 'Onnens', 'Orbe', 'Ostermundigen',\n",
       "       'Othmarsingen', 'Palézieux', 'Payerne', 'Pfäffikon', 'Pontresina',\n",
       "       'Poschiavo', 'Pratteln', 'Punt', 'Rabius', 'Rapperswil',\n",
       "       'Regensdorf', 'Reichenau', 'Rekingen', 'Renens', 'Renens',\n",
       "       'Reuchenette', 'Rheinfelden', 'Rodels', 'Romanshorn', 'Romont',\n",
       "       'Rothenbrunnen', 'Rothenburg', 'Rothrist', 'Rotkreuz', 'Rubigen',\n",
       "       'Rueun', 'Rümlang', 'Saignelégier', 'Salez', 'Samedan', 'Sargans',\n",
       "       'Schachen', 'Schaffhausen', 'Schiers', 'Schlieren', 'Schmitten',\n",
       "       'Schnaus', 'Schwarzenbach', 'Schweizerhalle', 'Schwerzenbach',\n",
       "       'Schwyz', 'Schönbühl', 'Scuol', 'Sierre', 'Siggenthal', 'Singen',\n",
       "       'Sins', 'Sion', 'Sisseln', 'Solothurn', 'Spiez', 'St', 'St', 'St',\n",
       "       'St.', 'St.', 'St.', 'St.', 'St.', 'Stabio', 'Steffisburg',\n",
       "       'Stein', 'Studen', 'Suberg', 'Suhr', 'Sulgen', 'Sumiswald',\n",
       "       'Surava', 'Sursee', 'Sursee', 'Sévaz', 'Tavanasa-Breil', 'Taverne',\n",
       "       'Thalheim', 'Thun', 'Thusis', 'Thörishaus', 'Tirano', 'Trun',\n",
       "       'Turtmann', 'Untervaz', 'Vernier', 'Versam', 'Villeneuve', 'Visp',\n",
       "       'Vufflens', 'Waldibrücke', 'Waltenschwil', 'Wangen', 'Weesen',\n",
       "       'Weinfelden', 'Weinfelden', 'Wetzikon', 'Wichtrach', 'Wil',\n",
       "       'Wildegg', 'Wiler', 'Winterthur', 'Winterthur', 'Wohlen',\n",
       "       'Yverdon', 'Yvonand', 'Zernez', 'Zihlbrücke', 'Zizers', 'Zofingen',\n",
       "       'Zollikofen', 'Zug', 'Zweidlen', 'Zürich', 'Zürich', 'Zürich',\n",
       "       'Zürich', 'Zürich', 'Zürich', 'Zürich'], dtype=object)"
      ]
     },
     "execution_count": 196,
     "metadata": {},
     "output_type": "execute_result"
    }
   ],
   "source": [
    "def erase_last_digit(int_):\n",
    "    if int_>9:\n",
    "        list_ints=[a for a in str(int_)[:-1]]\n",
    "        joined_str=''.join(list_ints)\n",
    "        return int(joined_str)\n",
    "    else:\n",
    "        return int_\n",
    "def take_first_name(name):\n",
    "    if 'Limmattal' in name:\n",
    "        return 'Limmattal'\n",
    "    elif '/' in name: \n",
    "        return name.split('/')[0]\n",
    "    elif '-' in name: \n",
    "        return name.split('-')[0]\n",
    "    elif ' ' in name: \n",
    "        return name.split(' ')[0]\n",
    "    elif 'Genève' in name:\n",
    "        return 'Genf'\n",
    "    else:\n",
    "        return name\n",
    "main_stations.Name.map(take_first_name).to_numpy()"
   ]
  },
  {
   "cell_type": "code",
   "execution_count": 202,
   "id": "9e7a8552",
   "metadata": {},
   "outputs": [
    {
     "data": {
      "text/html": [
       "<div>\n",
       "<style scoped>\n",
       "    .dataframe tbody tr th:only-of-type {\n",
       "        vertical-align: middle;\n",
       "    }\n",
       "\n",
       "    .dataframe tbody tr th {\n",
       "        vertical-align: top;\n",
       "    }\n",
       "\n",
       "    .dataframe thead th {\n",
       "        text-align: right;\n",
       "    }\n",
       "</style>\n",
       "<table border=\"1\" class=\"dataframe\">\n",
       "  <thead>\n",
       "    <tr style=\"text-align: right;\">\n",
       "      <th></th>\n",
       "      <th>Content-Type: text/plain; charset=utf-8\\n</th>\n",
       "      <th>OPUIC</th>\n",
       "      <th>Stop name</th>\n",
       "      <th>Station abbreviation</th>\n",
       "      <th>LOCALITYNAME</th>\n",
       "      <th>MUNICIPALITY NAME</th>\n",
       "      <th>BFS Nummer Gemeinde</th>\n",
       "      <th>DISTRICT NAME</th>\n",
       "      <th>BFS Nummer Bezirk</th>\n",
       "      <th>CANTON NAME</th>\n",
       "      <th>...</th>\n",
       "      <th>BO_IDENTIFICATION</th>\n",
       "      <th>tc-number</th>\n",
       "      <th>BO_ABBREVIATION_DE</th>\n",
       "      <th>BO_DESIGNATION_DE</th>\n",
       "      <th>lod</th>\n",
       "      <th>Geopos</th>\n",
       "      <th>IS_STOP</th>\n",
       "      <th>IS_BEDIENPUNKT</th>\n",
       "      <th>IS_VERKEHRSPUNKT</th>\n",
       "      <th>Short_name</th>\n",
       "    </tr>\n",
       "  </thead>\n",
       "  <tbody>\n",
       "    <tr>\n",
       "      <th>18803</th>\n",
       "      <td>3546</td>\n",
       "      <td>8503546</td>\n",
       "      <td>Zürich RB Limmattal Depot/Bau</td>\n",
       "      <td>RBLP</td>\n",
       "      <td>Dietikon</td>\n",
       "      <td>Dietikon</td>\n",
       "      <td>243.0</td>\n",
       "      <td>Dietikon</td>\n",
       "      <td>111.0</td>\n",
       "      <td>Zürich</td>\n",
       "      <td>...</td>\n",
       "      <td>100001</td>\n",
       "      <td>11</td>\n",
       "      <td>SBB</td>\n",
       "      <td>Schweizerische Bundesbahnen SBB</td>\n",
       "      <td>http://lod.opentransportdata.swiss/didok/8503546</td>\n",
       "      <td>47.4149574684,8.3925195546</td>\n",
       "      <td>0</td>\n",
       "      <td>1</td>\n",
       "      <td>1</td>\n",
       "      <td>Zürich RB Limmattal Depot</td>\n",
       "    </tr>\n",
       "    <tr>\n",
       "      <th>33007</th>\n",
       "      <td>3546</td>\n",
       "      <td>1103546</td>\n",
       "      <td>Oberuhldingen, Seefelden</td>\n",
       "      <td>NaN</td>\n",
       "      <td>NaN</td>\n",
       "      <td>NaN</td>\n",
       "      <td>NaN</td>\n",
       "      <td>NaN</td>\n",
       "      <td>NaN</td>\n",
       "      <td>NaN</td>\n",
       "      <td>...</td>\n",
       "      <td>101779</td>\n",
       "      <td>604</td>\n",
       "      <td>BODO</td>\n",
       "      <td>Bodensee-Oberschwaben Verkehrsverbund GmbH</td>\n",
       "      <td>http://lod.opentransportdata.swiss/didok/1103546</td>\n",
       "      <td>47.7351843446,9.22819235019</td>\n",
       "      <td>1</td>\n",
       "      <td>0</td>\n",
       "      <td>1</td>\n",
       "      <td>Oberuhldingen,</td>\n",
       "    </tr>\n",
       "  </tbody>\n",
       "</table>\n",
       "<p>2 rows × 38 columns</p>\n",
       "</div>"
      ],
      "text/plain": [
       "       Content-Type: text/plain; charset=utf-8\\n    OPUIC  \\\n",
       "18803                                       3546  8503546   \n",
       "33007                                       3546  1103546   \n",
       "\n",
       "                           Stop name Station abbreviation LOCALITYNAME  \\\n",
       "18803  Zürich RB Limmattal Depot/Bau                 RBLP     Dietikon   \n",
       "33007       Oberuhldingen, Seefelden                  NaN          NaN   \n",
       "\n",
       "      MUNICIPALITY NAME  BFS Nummer Gemeinde DISTRICT NAME  BFS Nummer Bezirk  \\\n",
       "18803          Dietikon                243.0      Dietikon              111.0   \n",
       "33007               NaN                  NaN           NaN                NaN   \n",
       "\n",
       "      CANTON NAME  ... BO_IDENTIFICATION  tc-number BO_ABBREVIATION_DE  \\\n",
       "18803      Zürich  ...            100001         11                SBB   \n",
       "33007         NaN  ...            101779        604               BODO   \n",
       "\n",
       "                                BO_DESIGNATION_DE  \\\n",
       "18803             Schweizerische Bundesbahnen SBB   \n",
       "33007  Bodensee-Oberschwaben Verkehrsverbund GmbH   \n",
       "\n",
       "                                                    lod  \\\n",
       "18803  http://lod.opentransportdata.swiss/didok/8503546   \n",
       "33007  http://lod.opentransportdata.swiss/didok/1103546   \n",
       "\n",
       "                            Geopos  IS_STOP IS_BEDIENPUNKT  IS_VERKEHRSPUNKT  \\\n",
       "18803   47.4149574684,8.3925195546        0              1                 1   \n",
       "33007  47.7351843446,9.22819235019        1              0                 1   \n",
       "\n",
       "                      Short_name  \n",
       "18803  Zürich RB Limmattal Depot  \n",
       "33007             Oberuhldingen,  \n",
       "\n",
       "[2 rows x 38 columns]"
      ]
     },
     "execution_count": 202,
     "metadata": {},
     "output_type": "execute_result"
    }
   ],
   "source": [
    "stations.loc[stations['Content-Type: text/plain; charset=utf-8\\n']==3546]"
   ]
  },
  {
   "cell_type": "code",
   "execution_count": 126,
   "id": "319c5fde",
   "metadata": {},
   "outputs": [
    {
     "data": {
      "text/html": [
       "<div>\n",
       "<style scoped>\n",
       "    .dataframe tbody tr th:only-of-type {\n",
       "        vertical-align: middle;\n",
       "    }\n",
       "\n",
       "    .dataframe tbody tr th {\n",
       "        vertical-align: top;\n",
       "    }\n",
       "\n",
       "    .dataframe thead th {\n",
       "        text-align: right;\n",
       "    }\n",
       "</style>\n",
       "<table border=\"1\" class=\"dataframe\">\n",
       "  <thead>\n",
       "    <tr style=\"text-align: right;\">\n",
       "      <th></th>\n",
       "      <th>Unnamed: 0</th>\n",
       "      <th>Station_id</th>\n",
       "      <th>Name</th>\n",
       "    </tr>\n",
       "  </thead>\n",
       "  <tbody>\n",
       "    <tr>\n",
       "      <th>0</th>\n",
       "      <td>0</td>\n",
       "      <td>21360</td>\n",
       "      <td>Aarau GB</td>\n",
       "    </tr>\n",
       "    <tr>\n",
       "      <th>1</th>\n",
       "      <td>1</td>\n",
       "      <td>44040</td>\n",
       "      <td>Aarberg</td>\n",
       "    </tr>\n",
       "    <tr>\n",
       "      <th>2</th>\n",
       "      <td>2</td>\n",
       "      <td>22244</td>\n",
       "      <td>Affoltern am Albis</td>\n",
       "    </tr>\n",
       "    <tr>\n",
       "      <th>3</th>\n",
       "      <td>3</td>\n",
       "      <td>10355</td>\n",
       "      <td>Allaman</td>\n",
       "    </tr>\n",
       "    <tr>\n",
       "      <th>4</th>\n",
       "      <td>4</td>\n",
       "      <td>51136</td>\n",
       "      <td>Altdorf</td>\n",
       "    </tr>\n",
       "    <tr>\n",
       "      <th>5</th>\n",
       "      <td>5</td>\n",
       "      <td>154443</td>\n",
       "      <td>Altenrhein Flugzeugwerk (Abzw)</td>\n",
       "    </tr>\n",
       "    <tr>\n",
       "      <th>6</th>\n",
       "      <td>6</td>\n",
       "      <td>2238</td>\n",
       "      <td>Arch</td>\n",
       "    </tr>\n",
       "    <tr>\n",
       "      <th>7</th>\n",
       "      <td>7</td>\n",
       "      <td>15057</td>\n",
       "      <td>Ardon</td>\n",
       "    </tr>\n",
       "    <tr>\n",
       "      <th>8</th>\n",
       "      <td>8</td>\n",
       "      <td>62117</td>\n",
       "      <td>Arnegg</td>\n",
       "    </tr>\n",
       "    <tr>\n",
       "      <th>9</th>\n",
       "      <td>9</td>\n",
       "      <td>91579</td>\n",
       "      <td>Arosa</td>\n",
       "    </tr>\n",
       "    <tr>\n",
       "      <th>10</th>\n",
       "      <td>10</td>\n",
       "      <td>50047</td>\n",
       "      <td>Arth-Goldau</td>\n",
       "    </tr>\n",
       "    <tr>\n",
       "      <th>11</th>\n",
       "      <td>11</td>\n",
       "      <td>32052</td>\n",
       "      <td>Au ZH</td>\n",
       "    </tr>\n",
       "    <tr>\n",
       "      <th>12</th>\n",
       "      <td>12</td>\n",
       "      <td>53066</td>\n",
       "      <td>Balerna</td>\n",
       "    </tr>\n",
       "    <tr>\n",
       "      <th>13</th>\n",
       "      <td>13</td>\n",
       "      <td>2949</td>\n",
       "      <td>Balsthal</td>\n",
       "    </tr>\n",
       "    <tr>\n",
       "      <th>14</th>\n",
       "      <td>14</td>\n",
       "      <td>901</td>\n",
       "      <td>Basel Bad Bf</td>\n",
       "    </tr>\n",
       "    <tr>\n",
       "      <th>15</th>\n",
       "      <td>15</td>\n",
       "      <td>406</td>\n",
       "      <td>Basel GB</td>\n",
       "    </tr>\n",
       "    <tr>\n",
       "      <th>16</th>\n",
       "      <td>16</td>\n",
       "      <td>125</td>\n",
       "      <td>Basel Kleinhüningen Hafen</td>\n",
       "    </tr>\n",
       "  </tbody>\n",
       "</table>\n",
       "</div>"
      ],
      "text/plain": [
       "    Unnamed: 0  Station_id                            Name\n",
       "0            0       21360                        Aarau GB\n",
       "1            1       44040                         Aarberg\n",
       "2            2       22244              Affoltern am Albis\n",
       "3            3       10355                         Allaman\n",
       "4            4       51136                         Altdorf\n",
       "5            5      154443  Altenrhein Flugzeugwerk (Abzw)\n",
       "6            6        2238                            Arch\n",
       "7            7       15057                           Ardon\n",
       "8            8       62117                          Arnegg\n",
       "9            9       91579                           Arosa\n",
       "10          10       50047                     Arth-Goldau\n",
       "11          11       32052                           Au ZH\n",
       "12          12       53066                         Balerna\n",
       "13          13        2949                        Balsthal\n",
       "14          14         901                    Basel Bad Bf\n",
       "15          15         406                        Basel GB\n",
       "16          16         125       Basel Kleinhüningen Hafen"
      ]
     },
     "execution_count": 126,
     "metadata": {},
     "output_type": "execute_result"
    }
   ],
   "source": [
    "main_stations.head(17)"
   ]
  },
  {
   "cell_type": "code",
   "execution_count": 137,
   "id": "c29764db",
   "metadata": {},
   "outputs": [
    {
     "data": {
      "text/html": [
       "<div>\n",
       "<style scoped>\n",
       "    .dataframe tbody tr th:only-of-type {\n",
       "        vertical-align: middle;\n",
       "    }\n",
       "\n",
       "    .dataframe tbody tr th {\n",
       "        vertical-align: top;\n",
       "    }\n",
       "\n",
       "    .dataframe thead th {\n",
       "        text-align: right;\n",
       "    }\n",
       "</style>\n",
       "<table border=\"1\" class=\"dataframe\">\n",
       "  <thead>\n",
       "    <tr style=\"text-align: right;\">\n",
       "      <th></th>\n",
       "      <th>Unnamed: 0</th>\n",
       "      <th>Station_id</th>\n",
       "      <th>Name</th>\n",
       "    </tr>\n",
       "  </thead>\n",
       "  <tbody>\n",
       "    <tr>\n",
       "      <th>71</th>\n",
       "      <td>71</td>\n",
       "      <td>0</td>\n",
       "      <td>Desio (1)</td>\n",
       "    </tr>\n",
       "    <tr>\n",
       "      <th>72</th>\n",
       "      <td>72</td>\n",
       "      <td>0</td>\n",
       "      <td>Desio (2)</td>\n",
       "    </tr>\n",
       "  </tbody>\n",
       "</table>\n",
       "</div>"
      ],
      "text/plain": [
       "    Unnamed: 0  Station_id       Name\n",
       "71          71           0  Desio (1)\n",
       "72          72           0  Desio (2)"
      ]
     },
     "execution_count": 137,
     "metadata": {},
     "output_type": "execute_result"
    }
   ],
   "source": [
    "main_stations.loc[main_stations.Station_id==0]"
   ]
  },
  {
   "cell_type": "code",
   "execution_count": 197,
   "id": "0a01a3b1",
   "metadata": {},
   "outputs": [
    {
     "data": {
      "text/html": [
       "<div>\n",
       "<style scoped>\n",
       "    .dataframe tbody tr th:only-of-type {\n",
       "        vertical-align: middle;\n",
       "    }\n",
       "\n",
       "    .dataframe tbody tr th {\n",
       "        vertical-align: top;\n",
       "    }\n",
       "\n",
       "    .dataframe thead th {\n",
       "        text-align: right;\n",
       "    }\n",
       "</style>\n",
       "<table border=\"1\" class=\"dataframe\">\n",
       "  <thead>\n",
       "    <tr style=\"text-align: right;\">\n",
       "      <th></th>\n",
       "      <th>Unnamed: 0</th>\n",
       "      <th>Station_id</th>\n",
       "      <th>Name</th>\n",
       "      <th>Short_id</th>\n",
       "      <th>Short_name</th>\n",
       "    </tr>\n",
       "  </thead>\n",
       "  <tbody>\n",
       "    <tr>\n",
       "      <th>35</th>\n",
       "      <td>35</td>\n",
       "      <td>19000</td>\n",
       "      <td>Brescia San Zeno-Folzano</td>\n",
       "      <td>1900</td>\n",
       "      <td>Brescia San Zeno</td>\n",
       "    </tr>\n",
       "    <tr>\n",
       "      <th>71</th>\n",
       "      <td>71</td>\n",
       "      <td>0</td>\n",
       "      <td>Desio (1)</td>\n",
       "      <td>0</td>\n",
       "      <td>Desio</td>\n",
       "    </tr>\n",
       "    <tr>\n",
       "      <th>72</th>\n",
       "      <td>72</td>\n",
       "      <td>0</td>\n",
       "      <td>Desio (2)</td>\n",
       "      <td>0</td>\n",
       "      <td>Desio</td>\n",
       "    </tr>\n",
       "    <tr>\n",
       "      <th>146</th>\n",
       "      <td>146</td>\n",
       "      <td>15222</td>\n",
       "      <td>Lecco Maggianico</td>\n",
       "      <td>1522</td>\n",
       "      <td>Lecco</td>\n",
       "    </tr>\n",
       "    <tr>\n",
       "      <th>237</th>\n",
       "      <td>237</td>\n",
       "      <td>145599</td>\n",
       "      <td>Singen (Hohentwiel)</td>\n",
       "      <td>14559</td>\n",
       "      <td>Singen</td>\n",
       "    </tr>\n",
       "    <tr>\n",
       "      <th>250</th>\n",
       "      <td>250</td>\n",
       "      <td>91538</td>\n",
       "      <td>St. Peter Molinis</td>\n",
       "      <td>9153</td>\n",
       "      <td>St.</td>\n",
       "    </tr>\n",
       "    <tr>\n",
       "      <th>305</th>\n",
       "      <td>305</td>\n",
       "      <td>35469</td>\n",
       "      <td>Zürich RB Limmattal Wagenrep.</td>\n",
       "      <td>3546</td>\n",
       "      <td>Zürich</td>\n",
       "    </tr>\n",
       "  </tbody>\n",
       "</table>\n",
       "</div>"
      ],
      "text/plain": [
       "     Unnamed: 0  Station_id                           Name  Short_id  \\\n",
       "35           35       19000       Brescia San Zeno-Folzano      1900   \n",
       "71           71           0                      Desio (1)         0   \n",
       "72           72           0                      Desio (2)         0   \n",
       "146         146       15222               Lecco Maggianico      1522   \n",
       "237         237      145599  Singen (Hohentwiel)               14559   \n",
       "250         250       91538              St. Peter Molinis      9153   \n",
       "305         305       35469  Zürich RB Limmattal Wagenrep.      3546   \n",
       "\n",
       "           Short_name  \n",
       "35   Brescia San Zeno  \n",
       "71              Desio  \n",
       "72              Desio  \n",
       "146             Lecco  \n",
       "237            Singen  \n",
       "250               St.  \n",
       "305            Zürich  "
      ]
     },
     "execution_count": 197,
     "metadata": {},
     "output_type": "execute_result"
    }
   ],
   "source": [
    "\n",
    "keys1=['Content-Type: text/plain; charset=utf-8\\n','Short_name']\n",
    "keys2=['Short_id','Short_name']\n",
    "main_stations['Short_id']=main_stations.Station_id.map(erase_last_digit)\n",
    "main_stations['Short_name']=main_stations.Name.map(take_first_name)\n",
    "stations['Short_name']=stations['Stop name'].map(take_first_name)\n",
    "\n",
    "i1 = stations.set_index(keys1).index\n",
    "i2 = main_stations.set_index(keys2).index\n",
    "main_stations[~i2.isin(i1)]"
   ]
  },
  {
   "cell_type": "code",
   "execution_count": 157,
   "id": "e42df891",
   "metadata": {},
   "outputs": [
    {
     "name": "stdout",
     "output_type": "stream",
     "text": [
      "   c  k  l\n",
      "0  A  1  a\n",
      "1  A  2  b\n",
      "2  B  2  a\n",
      "3  C  2  a\n",
      "4  C  2  d\n"
     ]
    },
    {
     "data": {
      "text/html": [
       "<div>\n",
       "<style scoped>\n",
       "    .dataframe tbody tr th:only-of-type {\n",
       "        vertical-align: middle;\n",
       "    }\n",
       "\n",
       "    .dataframe tbody tr th {\n",
       "        vertical-align: top;\n",
       "    }\n",
       "\n",
       "    .dataframe thead th {\n",
       "        text-align: right;\n",
       "    }\n",
       "</style>\n",
       "<table border=\"1\" class=\"dataframe\">\n",
       "  <thead>\n",
       "    <tr style=\"text-align: right;\">\n",
       "      <th></th>\n",
       "      <th>c</th>\n",
       "      <th>k</th>\n",
       "      <th>l</th>\n",
       "    </tr>\n",
       "  </thead>\n",
       "  <tbody>\n",
       "    <tr>\n",
       "      <th>1</th>\n",
       "      <td>A</td>\n",
       "      <td>2</td>\n",
       "      <td>b</td>\n",
       "    </tr>\n",
       "    <tr>\n",
       "      <th>3</th>\n",
       "      <td>C</td>\n",
       "      <td>2</td>\n",
       "      <td>a</td>\n",
       "    </tr>\n",
       "  </tbody>\n",
       "</table>\n",
       "</div>"
      ],
      "text/plain": [
       "   c  k  l\n",
       "1  A  2  b\n",
       "3  C  2  a"
      ]
     },
     "execution_count": 157,
     "metadata": {},
     "output_type": "execute_result"
    }
   ],
   "source": [
    "df1 = pd.DataFrame({'c': ['A', 'A', 'B', 'C', 'C'],\n",
    "                    'k': [1, 2, 2, 2, 2],\n",
    "                    'l': ['a', 'b', 'a', 'a', 'd']})\n",
    "df2 = pd.DataFrame({'c': ['A', 'C'],\n",
    "                    'l': ['b', 'a']})\n",
    "keys = list(df2.columns.values)\n",
    "print(df1)\n",
    "i1 = df1.set_index(keys).index\n",
    "i2 = df2.set_index(keys).index\n",
    "df1[i1.isin(i2)]"
   ]
  },
  {
   "cell_type": "code",
   "execution_count": 153,
   "id": "05d49b4c",
   "metadata": {},
   "outputs": [
    {
     "data": {
      "text/html": [
       "<div>\n",
       "<style scoped>\n",
       "    .dataframe tbody tr th:only-of-type {\n",
       "        vertical-align: middle;\n",
       "    }\n",
       "\n",
       "    .dataframe tbody tr th {\n",
       "        vertical-align: top;\n",
       "    }\n",
       "\n",
       "    .dataframe thead th {\n",
       "        text-align: right;\n",
       "    }\n",
       "</style>\n",
       "<table border=\"1\" class=\"dataframe\">\n",
       "  <thead>\n",
       "    <tr style=\"text-align: right;\">\n",
       "      <th></th>\n",
       "      <th>Content-Type: text/plain; charset=utf-8\\n</th>\n",
       "      <th>OPUIC</th>\n",
       "      <th>Stop name</th>\n",
       "      <th>Station abbreviation</th>\n",
       "      <th>LOCALITYNAME</th>\n",
       "      <th>MUNICIPALITY NAME</th>\n",
       "      <th>BFS Nummer Gemeinde</th>\n",
       "      <th>DISTRICT NAME</th>\n",
       "      <th>BFS Nummer Bezirk</th>\n",
       "      <th>CANTON NAME</th>\n",
       "      <th>...</th>\n",
       "      <th>Verkehrsmitteltext</th>\n",
       "      <th>BO_IDENTIFICATION</th>\n",
       "      <th>tc-number</th>\n",
       "      <th>BO_ABBREVIATION_DE</th>\n",
       "      <th>BO_DESIGNATION_DE</th>\n",
       "      <th>lod</th>\n",
       "      <th>Geopos</th>\n",
       "      <th>IS_STOP</th>\n",
       "      <th>IS_BEDIENPUNKT</th>\n",
       "      <th>IS_VERKEHRSPUNKT</th>\n",
       "    </tr>\n",
       "  </thead>\n",
       "  <tbody>\n",
       "    <tr>\n",
       "      <th>0</th>\n",
       "      <td>90868</td>\n",
       "      <td>8590868</td>\n",
       "      <td>Wädenswil, Schlossbergstrasse</td>\n",
       "      <td>NaN</td>\n",
       "      <td>Wädenswil</td>\n",
       "      <td>Wädenswil</td>\n",
       "      <td>293.0</td>\n",
       "      <td>Horgen</td>\n",
       "      <td>106.0</td>\n",
       "      <td>Zürich</td>\n",
       "      <td>...</td>\n",
       "      <td>Bus</td>\n",
       "      <td>100606</td>\n",
       "      <td>807</td>\n",
       "      <td>SZU Auto</td>\n",
       "      <td>Automobildienst SZU</td>\n",
       "      <td>http://lod.opentransportdata.swiss/didok/8590868</td>\n",
       "      <td>47.225246649,8.6749927814</td>\n",
       "      <td>1</td>\n",
       "      <td>0</td>\n",
       "      <td>1</td>\n",
       "    </tr>\n",
       "    <tr>\n",
       "      <th>1</th>\n",
       "      <td>90876</td>\n",
       "      <td>8590876</td>\n",
       "      <td>Wädenswil, Waisenhausstrasse</td>\n",
       "      <td>NaN</td>\n",
       "      <td>Wädenswil</td>\n",
       "      <td>Wädenswil</td>\n",
       "      <td>293.0</td>\n",
       "      <td>Horgen</td>\n",
       "      <td>106.0</td>\n",
       "      <td>Zürich</td>\n",
       "      <td>...</td>\n",
       "      <td>Bus</td>\n",
       "      <td>100606</td>\n",
       "      <td>807</td>\n",
       "      <td>SZU Auto</td>\n",
       "      <td>Automobildienst SZU</td>\n",
       "      <td>http://lod.opentransportdata.swiss/didok/8590876</td>\n",
       "      <td>47.2196987085,8.67392699045</td>\n",
       "      <td>1</td>\n",
       "      <td>0</td>\n",
       "      <td>1</td>\n",
       "    </tr>\n",
       "    <tr>\n",
       "      <th>2</th>\n",
       "      <td>94776</td>\n",
       "      <td>8594776</td>\n",
       "      <td>Bad Ragaz, Casino</td>\n",
       "      <td>NaN</td>\n",
       "      <td>Bad Ragaz</td>\n",
       "      <td>Bad Ragaz</td>\n",
       "      <td>3291.0</td>\n",
       "      <td>Sarganserland</td>\n",
       "      <td>1725.0</td>\n",
       "      <td>St. Gallen</td>\n",
       "      <td>...</td>\n",
       "      <td>Bus</td>\n",
       "      <td>100568</td>\n",
       "      <td>766</td>\n",
       "      <td>BuS/cb</td>\n",
       "      <td>Bus und Service AG (Chur)</td>\n",
       "      <td>http://lod.opentransportdata.swiss/didok/8594776</td>\n",
       "      <td>47.0007881357,9.50615078317</td>\n",
       "      <td>1</td>\n",
       "      <td>0</td>\n",
       "      <td>1</td>\n",
       "    </tr>\n",
       "    <tr>\n",
       "      <th>3</th>\n",
       "      <td>82473</td>\n",
       "      <td>8582473</td>\n",
       "      <td>Bad Ragaz, Fluppi</td>\n",
       "      <td>NaN</td>\n",
       "      <td>Bad Ragaz</td>\n",
       "      <td>Bad Ragaz</td>\n",
       "      <td>3291.0</td>\n",
       "      <td>Sarganserland</td>\n",
       "      <td>1725.0</td>\n",
       "      <td>St. Gallen</td>\n",
       "      <td>...</td>\n",
       "      <td>Bus</td>\n",
       "      <td>100602</td>\n",
       "      <td>801</td>\n",
       "      <td>PAG</td>\n",
       "      <td>PostAuto AG</td>\n",
       "      <td>http://lod.opentransportdata.swiss/didok/8582473</td>\n",
       "      <td>46.9950093694,9.51769869681</td>\n",
       "      <td>1</td>\n",
       "      <td>0</td>\n",
       "      <td>1</td>\n",
       "    </tr>\n",
       "    <tr>\n",
       "      <th>4</th>\n",
       "      <td>1542</td>\n",
       "      <td>1201542</td>\n",
       "      <td>Lustenau, Volksschule Rotkreuz</td>\n",
       "      <td>NaN</td>\n",
       "      <td>NaN</td>\n",
       "      <td>NaN</td>\n",
       "      <td>NaN</td>\n",
       "      <td>NaN</td>\n",
       "      <td>NaN</td>\n",
       "      <td>NaN</td>\n",
       "      <td>...</td>\n",
       "      <td>Bus</td>\n",
       "      <td>101758</td>\n",
       "      <td>478</td>\n",
       "      <td>VVV</td>\n",
       "      <td>Verkehrsverbund Vorarlberg GmbH</td>\n",
       "      <td>http://lod.opentransportdata.swiss/didok/1201542</td>\n",
       "      <td>47.4395059946,9.66266500094</td>\n",
       "      <td>1</td>\n",
       "      <td>0</td>\n",
       "      <td>1</td>\n",
       "    </tr>\n",
       "    <tr>\n",
       "      <th>...</th>\n",
       "      <td>...</td>\n",
       "      <td>...</td>\n",
       "      <td>...</td>\n",
       "      <td>...</td>\n",
       "      <td>...</td>\n",
       "      <td>...</td>\n",
       "      <td>...</td>\n",
       "      <td>...</td>\n",
       "      <td>...</td>\n",
       "      <td>...</td>\n",
       "      <td>...</td>\n",
       "      <td>...</td>\n",
       "      <td>...</td>\n",
       "      <td>...</td>\n",
       "      <td>...</td>\n",
       "      <td>...</td>\n",
       "      <td>...</td>\n",
       "      <td>...</td>\n",
       "      <td>...</td>\n",
       "      <td>...</td>\n",
       "      <td>...</td>\n",
       "    </tr>\n",
       "    <tr>\n",
       "      <th>46736</th>\n",
       "      <td>89056</td>\n",
       "      <td>8589056</td>\n",
       "      <td>Burgdorf, Lerchenbühlweg</td>\n",
       "      <td>BDLB</td>\n",
       "      <td>Burgdorf</td>\n",
       "      <td>Burgdorf</td>\n",
       "      <td>404.0</td>\n",
       "      <td>Emmental</td>\n",
       "      <td>245.0</td>\n",
       "      <td>Bern</td>\n",
       "      <td>...</td>\n",
       "      <td>Bus</td>\n",
       "      <td>100670</td>\n",
       "      <td>871</td>\n",
       "      <td>BLAG</td>\n",
       "      <td>Busland AG</td>\n",
       "      <td>http://lod.opentransportdata.swiss/didok/8589056</td>\n",
       "      <td>47.0593966348,7.61285182078</td>\n",
       "      <td>1</td>\n",
       "      <td>0</td>\n",
       "      <td>1</td>\n",
       "    </tr>\n",
       "    <tr>\n",
       "      <th>46737</th>\n",
       "      <td>7251</td>\n",
       "      <td>8507251</td>\n",
       "      <td>Gümligen, Seidenberg</td>\n",
       "      <td>SEID</td>\n",
       "      <td>Gümligen</td>\n",
       "      <td>Muri bei Bern</td>\n",
       "      <td>356.0</td>\n",
       "      <td>Bern-Mittelland</td>\n",
       "      <td>246.0</td>\n",
       "      <td>Bern</td>\n",
       "      <td>...</td>\n",
       "      <td>Tram</td>\n",
       "      <td>100066</td>\n",
       "      <td>88</td>\n",
       "      <td>RBS</td>\n",
       "      <td>Regionalverkehr Bern-Solothurn</td>\n",
       "      <td>http://lod.opentransportdata.swiss/didok/8507251</td>\n",
       "      <td>46.9330199983,7.49253000485</td>\n",
       "      <td>1</td>\n",
       "      <td>0</td>\n",
       "      <td>1</td>\n",
       "    </tr>\n",
       "    <tr>\n",
       "      <th>46738</th>\n",
       "      <td>7052</td>\n",
       "      <td>8507052</td>\n",
       "      <td>Gümligen, Melchenbühl (Tram)</td>\n",
       "      <td>MELB</td>\n",
       "      <td>Gümligen</td>\n",
       "      <td>Muri bei Bern</td>\n",
       "      <td>356.0</td>\n",
       "      <td>Bern-Mittelland</td>\n",
       "      <td>246.0</td>\n",
       "      <td>Bern</td>\n",
       "      <td>...</td>\n",
       "      <td>Tram</td>\n",
       "      <td>100066</td>\n",
       "      <td>88</td>\n",
       "      <td>RBS</td>\n",
       "      <td>Regionalverkehr Bern-Solothurn</td>\n",
       "      <td>http://lod.opentransportdata.swiss/didok/8507052</td>\n",
       "      <td>46.934919997,7.49801000231</td>\n",
       "      <td>1</td>\n",
       "      <td>0</td>\n",
       "      <td>1</td>\n",
       "    </tr>\n",
       "    <tr>\n",
       "      <th>46739</th>\n",
       "      <td>77016</td>\n",
       "      <td>8577016</td>\n",
       "      <td>Gümligen, Sonnenfeld</td>\n",
       "      <td>NaN</td>\n",
       "      <td>Gümligen</td>\n",
       "      <td>Muri bei Bern</td>\n",
       "      <td>356.0</td>\n",
       "      <td>Bern-Mittelland</td>\n",
       "      <td>246.0</td>\n",
       "      <td>Bern</td>\n",
       "      <td>...</td>\n",
       "      <td>Bus</td>\n",
       "      <td>100649</td>\n",
       "      <td>850</td>\n",
       "      <td>RBS Auto</td>\n",
       "      <td>Autobusbetrieb RBS</td>\n",
       "      <td>http://lod.opentransportdata.swiss/didok/8577016</td>\n",
       "      <td>46.927817609,7.50989168821</td>\n",
       "      <td>1</td>\n",
       "      <td>0</td>\n",
       "      <td>1</td>\n",
       "    </tr>\n",
       "    <tr>\n",
       "      <th>46740</th>\n",
       "      <td>95603</td>\n",
       "      <td>8595603</td>\n",
       "      <td>Gümligen, Moosstrasse</td>\n",
       "      <td>NaN</td>\n",
       "      <td>Gümligen</td>\n",
       "      <td>Muri bei Bern</td>\n",
       "      <td>356.0</td>\n",
       "      <td>Bern-Mittelland</td>\n",
       "      <td>246.0</td>\n",
       "      <td>Bern</td>\n",
       "      <td>...</td>\n",
       "      <td>Bus</td>\n",
       "      <td>100649</td>\n",
       "      <td>850</td>\n",
       "      <td>RBS Auto</td>\n",
       "      <td>Autobusbetrieb RBS</td>\n",
       "      <td>http://lod.opentransportdata.swiss/didok/8595603</td>\n",
       "      <td>46.9279026804,7.50284074465</td>\n",
       "      <td>1</td>\n",
       "      <td>0</td>\n",
       "      <td>1</td>\n",
       "    </tr>\n",
       "  </tbody>\n",
       "</table>\n",
       "<p>46741 rows × 37 columns</p>\n",
       "</div>"
      ],
      "text/plain": [
       "       Content-Type: text/plain; charset=utf-8\\n    OPUIC  \\\n",
       "0                                          90868  8590868   \n",
       "1                                          90876  8590876   \n",
       "2                                          94776  8594776   \n",
       "3                                          82473  8582473   \n",
       "4                                           1542  1201542   \n",
       "...                                          ...      ...   \n",
       "46736                                      89056  8589056   \n",
       "46737                                       7251  8507251   \n",
       "46738                                       7052  8507052   \n",
       "46739                                      77016  8577016   \n",
       "46740                                      95603  8595603   \n",
       "\n",
       "                            Stop name Station abbreviation LOCALITYNAME  \\\n",
       "0       Wädenswil, Schlossbergstrasse                  NaN    Wädenswil   \n",
       "1        Wädenswil, Waisenhausstrasse                  NaN    Wädenswil   \n",
       "2                   Bad Ragaz, Casino                  NaN    Bad Ragaz   \n",
       "3                   Bad Ragaz, Fluppi                  NaN    Bad Ragaz   \n",
       "4      Lustenau, Volksschule Rotkreuz                  NaN          NaN   \n",
       "...                               ...                  ...          ...   \n",
       "46736        Burgdorf, Lerchenbühlweg                 BDLB     Burgdorf   \n",
       "46737            Gümligen, Seidenberg                 SEID     Gümligen   \n",
       "46738    Gümligen, Melchenbühl (Tram)                 MELB     Gümligen   \n",
       "46739            Gümligen, Sonnenfeld                  NaN     Gümligen   \n",
       "46740           Gümligen, Moosstrasse                  NaN     Gümligen   \n",
       "\n",
       "      MUNICIPALITY NAME  BFS Nummer Gemeinde    DISTRICT NAME  \\\n",
       "0             Wädenswil                293.0           Horgen   \n",
       "1             Wädenswil                293.0           Horgen   \n",
       "2             Bad Ragaz               3291.0    Sarganserland   \n",
       "3             Bad Ragaz               3291.0    Sarganserland   \n",
       "4                   NaN                  NaN              NaN   \n",
       "...                 ...                  ...              ...   \n",
       "46736          Burgdorf                404.0         Emmental   \n",
       "46737     Muri bei Bern                356.0  Bern-Mittelland   \n",
       "46738     Muri bei Bern                356.0  Bern-Mittelland   \n",
       "46739     Muri bei Bern                356.0  Bern-Mittelland   \n",
       "46740     Muri bei Bern                356.0  Bern-Mittelland   \n",
       "\n",
       "       BFS Nummer Bezirk CANTON NAME  ... Verkehrsmitteltext  \\\n",
       "0                  106.0      Zürich  ...                Bus   \n",
       "1                  106.0      Zürich  ...                Bus   \n",
       "2                 1725.0  St. Gallen  ...                Bus   \n",
       "3                 1725.0  St. Gallen  ...                Bus   \n",
       "4                    NaN         NaN  ...                Bus   \n",
       "...                  ...         ...  ...                ...   \n",
       "46736              245.0        Bern  ...                Bus   \n",
       "46737              246.0        Bern  ...               Tram   \n",
       "46738              246.0        Bern  ...               Tram   \n",
       "46739              246.0        Bern  ...                Bus   \n",
       "46740              246.0        Bern  ...                Bus   \n",
       "\n",
       "       BO_IDENTIFICATION tc-number BO_ABBREVIATION_DE  \\\n",
       "0                 100606       807           SZU Auto   \n",
       "1                 100606       807           SZU Auto   \n",
       "2                 100568       766             BuS/cb   \n",
       "3                 100602       801                PAG   \n",
       "4                 101758       478                VVV   \n",
       "...                  ...       ...                ...   \n",
       "46736             100670       871               BLAG   \n",
       "46737             100066        88                RBS   \n",
       "46738             100066        88                RBS   \n",
       "46739             100649       850           RBS Auto   \n",
       "46740             100649       850           RBS Auto   \n",
       "\n",
       "                     BO_DESIGNATION_DE  \\\n",
       "0                  Automobildienst SZU   \n",
       "1                  Automobildienst SZU   \n",
       "2            Bus und Service AG (Chur)   \n",
       "3                          PostAuto AG   \n",
       "4      Verkehrsverbund Vorarlberg GmbH   \n",
       "...                                ...   \n",
       "46736                       Busland AG   \n",
       "46737   Regionalverkehr Bern-Solothurn   \n",
       "46738   Regionalverkehr Bern-Solothurn   \n",
       "46739               Autobusbetrieb RBS   \n",
       "46740               Autobusbetrieb RBS   \n",
       "\n",
       "                                                    lod  \\\n",
       "0      http://lod.opentransportdata.swiss/didok/8590868   \n",
       "1      http://lod.opentransportdata.swiss/didok/8590876   \n",
       "2      http://lod.opentransportdata.swiss/didok/8594776   \n",
       "3      http://lod.opentransportdata.swiss/didok/8582473   \n",
       "4      http://lod.opentransportdata.swiss/didok/1201542   \n",
       "...                                                 ...   \n",
       "46736  http://lod.opentransportdata.swiss/didok/8589056   \n",
       "46737  http://lod.opentransportdata.swiss/didok/8507251   \n",
       "46738  http://lod.opentransportdata.swiss/didok/8507052   \n",
       "46739  http://lod.opentransportdata.swiss/didok/8577016   \n",
       "46740  http://lod.opentransportdata.swiss/didok/8595603   \n",
       "\n",
       "                            Geopos IS_STOP  IS_BEDIENPUNKT  IS_VERKEHRSPUNKT  \n",
       "0        47.225246649,8.6749927814       1               0                 1  \n",
       "1      47.2196987085,8.67392699045       1               0                 1  \n",
       "2      47.0007881357,9.50615078317       1               0                 1  \n",
       "3      46.9950093694,9.51769869681       1               0                 1  \n",
       "4      47.4395059946,9.66266500094       1               0                 1  \n",
       "...                            ...     ...             ...               ...  \n",
       "46736  47.0593966348,7.61285182078       1               0                 1  \n",
       "46737  46.9330199983,7.49253000485       1               0                 1  \n",
       "46738   46.934919997,7.49801000231       1               0                 1  \n",
       "46739   46.927817609,7.50989168821       1               0                 1  \n",
       "46740  46.9279026804,7.50284074465       1               0                 1  \n",
       "\n",
       "[46741 rows x 37 columns]"
      ]
     },
     "execution_count": 153,
     "metadata": {},
     "output_type": "execute_result"
    }
   ],
   "source": [
    "stations"
   ]
  },
  {
   "cell_type": "code",
   "execution_count": null,
   "id": "4083530e",
   "metadata": {},
   "outputs": [],
   "source": []
  }
 ],
 "metadata": {
  "kernelspec": {
   "display_name": "Python 3 (ipykernel)",
   "language": "python",
   "name": "python3"
  },
  "language_info": {
   "codemirror_mode": {
    "name": "ipython",
    "version": 3
   },
   "file_extension": ".py",
   "mimetype": "text/x-python",
   "name": "python",
   "nbconvert_exporter": "python",
   "pygments_lexer": "ipython3",
   "version": "3.9.5"
  }
 },
 "nbformat": 4,
 "nbformat_minor": 5
}
